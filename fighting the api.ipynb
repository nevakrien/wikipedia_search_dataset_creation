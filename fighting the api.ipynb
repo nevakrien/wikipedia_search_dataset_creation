{
 "cells": [
  {
   "cell_type": "code",
   "execution_count": 1,
   "id": "9c2fc784-94ab-4077-8006-c266e4da9ea0",
   "metadata": {},
   "outputs": [],
   "source": [
    "import wikipediaapi\n",
    "import json\n",
    "user_agent=\"search ml paired dataset for reaserch academic purposes(nevo.krien@gmail.com)\"\n",
    "\n",
    "with open('secrets.json') as f:\n",
    "    secrets=json.load(f)\n",
    "\n",
    "# with open('secrets2.json') as f:\n",
    "#     secrets2=json.load(f)"
   ]
  },
  {
   "cell_type": "code",
   "execution_count": 2,
   "id": "bfaa7957-646b-4d7b-99b9-54e55009affb",
   "metadata": {},
   "outputs": [
    {
     "data": {
      "text/plain": [
       "dict_keys(['Client ID', 'Client secret', 'Access token'])"
      ]
     },
     "execution_count": 2,
     "metadata": {},
     "output_type": "execute_result"
    }
   ],
   "source": [
    "secrets.keys()"
   ]
  },
  {
   "cell_type": "code",
   "execution_count": 3,
   "id": "c17de0bf-34f6-42c0-bffd-bbbebf50a69d",
   "metadata": {},
   "outputs": [],
   "source": [
    "#help(wikipediaapi.Wikipedia.__init__)"
   ]
  },
  {
   "cell_type": "code",
   "execution_count": 29,
   "id": "ac5a98dc-0e6d-403f-b358-21ecdc606003",
   "metadata": {},
   "outputs": [],
   "source": [
    "headers = {\n",
    "    \"Authorization\": f\"Bearer {secrets['Access token']}\"\n",
    "}\n",
    "\n",
    "\n",
    "# # Initialize Wikipedia API for English and Hebrew\n",
    "wiki_en = wikipediaapi.Wikipedia(language='en',user_agent=user_agent,headers=headers)\n",
    "wiki_he = wikipediaapi.Wikipedia(language='he',user_agent=user_agent,headers=headers)"
   ]
  },
  {
   "cell_type": "code",
   "execution_count": 30,
   "id": "b8e5b5cf-8d0b-47dc-ad7d-90692bed94da",
   "metadata": {},
   "outputs": [
    {
     "name": "stdout",
     "output_type": "stream",
     "text": [
      "Help on method page in module wikipediaapi:\n",
      "\n",
      "page(title: str, ns: Union[wikipediaapi.Namespace, int] = <Namespace.MAIN: 0>, unquote: bool = False) -> 'WikipediaPage' method of wikipediaapi.Wikipedia instance\n",
      "    Constructs Wikipedia page with title `title`.\n",
      "\n",
      "    Creating `WikipediaPage` object is always the first step for extracting\n",
      "    any information.\n",
      "\n",
      "    Example::\n",
      "\n",
      "        wiki_wiki = wikipediaapi.Wikipedia('en')\n",
      "        page_py = wiki_wiki.page('Python_(programming_language)')\n",
      "        print(page_py.title)\n",
      "        # Python (programming language)\n",
      "\n",
      "        wiki_hi = wikipediaapi.Wikipedia('hi')\n",
      "\n",
      "        page_hi_py = wiki_hi.article(\n",
      "            title='%E0%A4%AA%E0%A4%BE%E0%A4%87%E0%A4%A5%E0%A4%A8',\n",
      "            unquote=True,\n",
      "        )\n",
      "        print(page_hi_py.title)\n",
      "        # पाइथन\n",
      "\n",
      "    :param title: page title as used in Wikipedia URL\n",
      "    :param ns: :class:`WikiNamespace`\n",
      "    :param unquote: if true it will unquote title\n",
      "    :return: object representing :class:`WikipediaPage`\n",
      "\n"
     ]
    }
   ],
   "source": [
    "help(wiki_he.page)"
   ]
  },
  {
   "cell_type": "code",
   "execution_count": 31,
   "id": "c58f772c-5239-4d54-8d79-28ab985d4d34",
   "metadata": {},
   "outputs": [
    {
     "data": {
      "text/plain": [
       "'אָמָּנוּת (יש לקרוא ולכתוב: אוֹמָנוּת, להבדיל מאֻמָּנוּת) היא יצירה אסתטית. אמנות, היא שם כולל לפעילויות האנושיות שאינן נעשות על פי תבנית פעולה קבועה, מחייבת ומוגדרת מראש, אלא נתונה לשיקול דעתו, פרשנותו ויצירתיותו של האָמָּן (או אֳמָן, יש לקרוא: אוֹמָן), והמתבססת על כישרונו המיוחד. עם זאת, היא יכולה להיעשות (ולמעשה אכן נעשית) על פי כללים ובמגבלות (לעיתים חמורים), שבמסגרתם מתבטא חופש היצירה של האמן. ביצירת אמנות באים לידי ביטוי רגשות האמן וכישרונותיו, וכן ייחודיותו. האמנות תופסת מעמד מרכזי בתרבות האנושית, ובשל כך נכללים בתחום האמנות ענפים רבים ומגוונים. האמנות קשורה בטבורה עם האסתטיקה.\\nאמנות היא אוניברסל אנושי: בכל תרבויות האדם קיימת אמנות, ואותם תחומי אמנות מופיעים בכל התרבויות.\\n\\nהגדרת האמנות\\nעיסוקה הקלאסי של האמנות הוא מימזיס, כלומר חיקוי. האמן מחקה את הטבע ויוצר טרנספורמציה באמצעות טכניקות שונות. עם זאת לא תמיד החיקוי נחשב לערך הנעלה ביותר של האמנות. במצרים העתיקה, לדוגמה היה לאמנות תפקיד ממשי - לעזור לנפטר בעולם הבא. ביוון העתיקה האמנות נתפסה כטכנה - \"כושר שכלול המיומנות האנושית ביצירה\". בימי הביניים תפקיד האמנות היה לשקף את האמונה והדוגמה הנוצרית למאמין ולהבהיר לו את סדר העולם והמדרג שבו (כגון, הפסיפסים בקתדרלת סן מרקו בוונציה). בעידן המודרני גישת האמנות היא על פי רוב גישה רומנטית, כלומר, מעמידה את הרגש ואת אופן הראיה והקשר שבין האדם לסביבה במרכז.\\nבעידן הפוסט מודרני ובעקבות יצירתו של האמן הצרפתי מרסל דושאן התקבעה החשיבה כי בעידן המודרני כל אחד יכול לשמש אמן ואכן רבים מגדירים את תחום עיסוקם כאמנות תחת העובדה שאין הגדרה חד משמעית. שף מומחה יכול להגדיר את עבודתו כאמנות הבישול, כשם שאדם המצייר על קירות רשאי להגדיר את עצמו כאמן. עם זאת, אף על פי שלא ניתן לפסול מעשה אמנות כלשהו מראש, הרי, בתודעת התרבות המערבית, אמנות היא צורת ביטוי אינטליגנטית המבוטאת בכלים אמנותיים מקצועיים, ולכן ניתן לפסול את הגישה שכל אדם שמגדיר עצמו אמן, אכן אמן הוא. לכן, גם צלם שאיננו מתערב באופן כלשהו בהצבת המצלמה ובחירת הקומפוזיציה של התמונה, איננו אמן, כפי שהקומפוזיטור שמקליט את קולות הגלים ואיננו מתערב בקומפוזיציה, איננו קומפוזיטור, איננו אמן. אם כי המילה אמנות בדרך כלל מתייחסת לאמנות חזותית, המושג של אמנות השתנה במשך השנים. ייתכן כי ההגדרה המדויקת ביותר של האמנות היא הרחבה ביותר – האמנות מתייחסת לכל פעילות אנושית יצירתית, חוץ ממעשים שמטרתם רבייה וקיום. מנקודת מבט רחבה זו, האמנות היא כל דבר שנוצר מהדחף היצירתי, שממנו מגיעים כל שאר הפעילויות האנושיות. המושג אמנות אינו מאפשר הגדרה אמיתית שאינה נסמכת על ההקשר התרבותי, ההיסטורי והגאוגרפי שבה הוא משמש.\\nאמנים, בכוונה או שלא בכוונה, יוצרים תחת ההשפעה של אמנים אחרים בעבר ובהווה. הרבה מההתפתחות של האמנים היחידים היא מציאה של עקרונות מובנים שמאפשרים להביע רעיונות מסוימים על ידי סמליות כלשהי. לדוגמה, וסילי קנדינסקי פיתח את השימוש שלו בצבע בציור דרך מערכת של תגובה לתמריצים, כאשר במשך הזמן הוא הגיע להבנה של הרגשות שהשימוש בצבע ובהרכבים של צבע יכול להביא להם. האמן אנדי גולדוורת\\'י, לעומת זאת, בחר את המדיום של חפצים טבעיים וחומרים על מנת לסדר פסלים זמניים; העדות היחידה שנותרת לפסלים שלו היא צילום צנוע.\\nפעמים רבות נטען כי לא ניתן להגדיר את המושג \"אמנות\", מכיוון שקנה המידה לשיפוט של אמנות הוא סובייקטיבי. לדוגמה, יצירתו של האמן ג\\'קסון פולוק נראית כתוצאה של זריקה ושפיכה של צבע על הבד, לכאורה ללא כל כישרון. דוגמה זו, יחד עם אלפי דוגמאות אחרות, הביאה לשאלה על התוקף של הרבה מהאמנות בת זמננו, כשיש מקום לומר שהרבה ממנה יכולה הייתה להיווצר גם על ידי בן שלוש. בין אם דבר זה נכון או לא, פעמים רבות יש קונצנזוס לגבי מה נחשב כאמנות. הקונצנזוס הזה אינו קבוע במשך הזמן, ורעיונות מסוימים נדחים שעה שאחרים נותרים ושורדים, לפעמים במזל ולפעמים מסיבות אחרות.\\nאמנות לעיתים מוצגת כשייכת למעמד אחד ולא לאחרים. אמנות, באופן היסטורי, היא פעילות של המעמד הגבוה, שרק אנשים אמידים, שיש להם אפשרות לרכוש אמנות ואת הזמן ליהנות ממנה, יכלו לעסוק בה. קל לראות זאת אם מבקרים בארמנות ורסיי או ארמיטאז\\' בסנקט פטרבורג עם אוספיהם העצומים, שנאספו בידי המלכויות העשירות של אירופה, וברור כי איסוף אמנות הוא פעילות של העשירים. אולם ישנה מסורת עשירה ביותר של אמנים שעושים דווקא את ההפך, ומורידים את החזון שלהם לגובה העיניים, כשהם חיים בעולם היומיום ואף בעוני.\\nהמילה אמנות גם משמשת לשפוט ערכית, כגון בביטוי \"ארוחה זו הייתה מעשה אמנות ממש\" (הטבח הוא אמן), או \"אמנות התרמית\", שם אנו משבחים את הכישרון הגבוה של המרמה. שימוש זה במילה, כמציינת איכות וערך גבוה, שנותנת למילה את הנטייה הסובייקטיבית שלה.\\nהדעות של אנשים רבים לגבי אמנות דומות זו לזו, ותמימות דעים זו מגיעה מחינוך ומגורמים חברתיים אחרים. רוב האנשים לא חושבים שחפצים יומיומיים הם אמנות, עד שאמן מסוים שם אותם בתוך גלריה לאמנות או מוזיאון, שקושרת את החפצים האלה עם הערכים המשויכים לאמנות. אמנם, רוב הצופים באמנות זו בתחילה דחו את הקישור, מכיוון שהחפצים האלה לא נראו בעיניהם כאמנות, ורק לאחר שהם נכנסו למה שנחשב בדעת הקהל הכללית כאמנות, הם הצליחו להשיג הכרה כללית.\\nבעניין האסוציאציה של האמנות עם מעמד גבוה, לפני המאה ה-13 באירופה, אמנים נחשבו כחברים במעמד נמוך יותר, מכיוון שהם היו למעשה פועלים. לאחר שאירופה נחשפה מחדש לתרבות הקלאסית ברנסאנס, במיוחד באיטליה, התקבל הקישור של האמנים עם המעמד הגבוה, אם כי שימוש בחפצים יקרים תמיד היה סמל סטטוס בידי מוסדות הכוח.\\n\\nאמנות כישות\\nההגדרה של האמנות והאסתטיקה בדרך כלל מגיעה מכמה נקודת מבט שונות. ניתן להגדיר את האמנות ככוונה של האמן, כפי שאנו מוצאים בכתביו של ג\\'ון דיואי. אמנות יכולה להיחשב כנמצאת בתגובה או ברגש של הצופה, כפי שטולסטוי טוען. לדעת דנטה, ניתן להגדירה כאופיו של החפץ עצמו או כפונקציה של ההקשר של החפץ. עבור אפלטון, אמנות היא חיקוי. יש תוקף מסוים לכל אחת מהפרספקטיבות האלה, והגדרה מועילה של האמנות להתייחס לכל הקטגוריות האלה.\\nאמנות קשורה בדרך כלל גם ליכולת רבה או לשליטה במדיום. היא גם עשויה להתייחס לשימוש המפותח והמועיל בשפה בצורה עמוקה ומדויקת. שיפוט של העניינים האלה מצריך בסיס לביקורת: צורה לבדוק, האם ההשפעה של דבר על החושים מספיקה על מנת שייחשב כאמנות, האם יש להחשיבו כיפה או כמכוער. חישה תמיד מושפעת מהניסיון, כך שהתגובה לאמנות כ\"יפה\" או \"מכוערת\" היא בהכרח סובייקטיבית. אסכולות רבות הציעו את ההגדרות שלהן לאיכות, אך כולם מסכימים בנקודה אחת: ברגע שנעשתה הבחירה האסתטית, הערך של יצירת האמנות מוערך על פי היכולת שלו לעלות מעל לגבולות של המדיום הנבחר, ולהגיע למקום אוניברסלי כלשהו (שבדרך כלל, באופן מפתיע, הוא אישי ביותר).\\nהאמנות יכולה גם לפנות אל הרגש האנושי. היא יכולה לעורר תחושות אסתטיות או מוסריות, ואפשר להבין אותה כצורת תקשורת של הרגשות האלה. אמנים צריכים להביע את עצמם כך שהקהל שלהם יתעורר, אך הם אינם צריכים לעשות זאת באופן מודע. האמנות חוקרת את הרגשות האנושיים ואת הדרכים לעורר אותם – ואמנות טובה מפיקה דבר-מה חדש ומקורי ביחס לאחד משני ההיבטים האלה.\\nלדוגמה, צילום. האם צילומים ללא פוזה של ה\"חיים האמיתיים\" יכולים להיחשב כאמנות? התשובה הרגילה היא כן, אם כי רבים מהצילומים האלה פשוט משחזרים במכונה את מה שאנשים יכולים לראות בעיניהם. אך הרפרודוקציה אינה נייטרלית; יש פה בחירה שנעשית על ידי האמן. זוהי גם אחת מהמטרות של האמנות: להביא את החפצים של היומיום להקשר חדש.\\n\\nצורות שונות של אמנות\\nישנו מגוון רחב של אמנויות, כולל אמנויות חזותיות ועיצוב, אמנויות דקורטיביות, אמנות פלסטית, ואמנויות הבמה. הביטוי האמנותי יכול להיות בצורות רבות: ציור, רישום, פיסול, מוזיקה, ספרות, תיאטרון, מחול ואדריכלות הן הצורות המוכרות ביותר. אך מאז עידן המודרניזם, הפוסט מודרניזם ועל רקע המהפכה הטכנולוגית, צורות חדשות עלו. אלה כוללות את הקולנוע, הצילום, הקומיקס, הווידאו, מיצבים, אמנות מושגית לסוגיה, אמנות מחשב ואף משחקי וידאו.\\nסוג ייחודי של אמנות הוא האמנות העממית (מעשיות, אגדות, שירי-עם וכו\\'), המתגבשת לכדי פולקלור תרבותי.\\nבתוך כל צורת אמנות קיימים מגוון רחב של תחומים. לדוגמה, ציור יכול להיות דומם (still life), פורטרט, או ציור נוף, ויכול לעסוק בנושאים היסטוריים או ביתיים. בנוסף, יצירה יכולה לייצג דבר כלשהו או להיות מופשטת.\\nאת רוב צורות האמנות אפשר לחלק לשני סוגים עיקריים: אמנות טהורה (fine art), ואמנות יישומית. באמנויות החזותיות, אמנות טהורה מתייחסת לציור ופיסול, אמנויות שאין להן פונקציה מעשית ושערכן הוא בהנאה החזותית שהן מספקות או ההצלחה שלהן בהעברת רעיונות או רגשות.\\nבנוסף, אמנות מושגית או אמנות קונספטואלית (Conceptual art) היא אמנות אשר שמה דגש על יצירת האמנות כרעיון אסתטי. ופחות על מימושו החומרי, כחפץ או כאובייקט.\\nאין לערבב עיצוב, לסוגיו השונים, כולל אדריכלות, עם אמנות. בניגוד לאמנות, מעצבים ואדריכלים למיניהם, יוצרים מוצר או מבנה, לפי מפרט או דרישות של לקוח מסוים. אמן, לעומת זאת, חופשי, לרוב, להביע את עצמו ללא הגבלות אלה. כמו כן, המוצרים והמבנים, בניגוד לחפצי אמנות, צריכים להיות לא רק יפים אלא גם יעילים, ולעמוד בשורה ארוכה של קריטריונים. לעיתים אלה קריטריונים כלליים, כמו מחיר או טכניקת ייצור, כמו בעיצוב תעשייתי. בפעמים אחרות, מדובר בקריטריונים המיוחדים ללקוח המזמין. המונח \"עיצוב\" מתייחס למספר מאפיינים, ושונה מהמונחים \"יופי\" ו\"סגנון\".\\n\\nהשימושים של האמנות\\nישנם רבים שאומרים[דרוש מקור] כי אמנויות מסוימות אינן מועילות. הגדרה זו מתאימה למערכת ההגדרות של \"אמנות כדבר טוב\", והיא סובלת מהעדפה מעמדית כנגד עבודה ויעילות. המתנגדים לדעה זו טוענים[דרוש מקור] כי לכל פעילות אנושית יש תועלת כלשהי, וכי לחפצים אלה, שטוענים להיות \"לא מועילים\", יש בעצם תפקיד בנאלי למדי של ניסיון למיסטיפיקציה והצדקה של מדרג חברתי שרירותי. מלבד זאת, יש לזכור שהכוונה במילה \"מועיל\" בהקשר זה היא של מועיל גשמית, בעוד שיצירות אמנות יכולות להועיל מבחינה נפשית לאמן ולצרכן האמנות.\\nה\"שימוש\" של האמנות מנקודת המבט של האמן היא כמדיום של ביטוי. אם נסתכל על האמנות כמכשיר, אפשר לדבר על כמה פונקציות שונות שלה, מפרספקטיבות שונות. מנקודת המבט של האמן, היא מאפשרת לסמל רעיונות ורגשות מורכבים בשפה שרירותית, שיש לפרשה. בהקשר חברתי, האמנות יכולה להעלות את המורל הציבורי ולהרגיע את הנפש. מנקודת מבט אנתרופולוגית יותר, היא צורה של העברת רעיונות ומושגים לדורות הבאים בשפה אוניברסלית מסוימת. הפירוש של השפה הזו תלוי מאוד בנקודת המבט ובהקשר של הצופה. מפרספקטיבה סובייקטיבית, לאמנות יש שימושים רבים, והדבר תלוי במצבו של האדם השואל: \"מהי התועלת של האמנות?\".\\n\\nחופש אמנותי\\nחופש אמנותי  הוא חלק מזכותו של אמן להפיק אמנות על-פי ראות עיניו. בגרמניה קיים חוק \"החופש לאמנות\"  חוק הנועד למנוע צנזורה פוליטית. רישום פטנט לעיתים נופל תחת קטגוריה זו. מונח נוסף הוא חירות דרמטית - עיוות עובדות, שינוי מוסכמות הדקדוק או השפה, או עיבוד מחדש של טקסט שכבר היה קיים על ידי אמן לצורך יצירת השפעה אמנותית. במהלך השנים 2012–2013 ערך האומות המאוחדות מחקר מקיף על חופש אמנותי ובתוך כך מחקר בנושא זכויות תרבותיות בראשות פארידה שהיד.\\n\\nראו גם\\nתולדות האמנות\\nאימפרסיוניזם\\nאמנות מודרנית\\nאמנות דיגיטלית\\nאמנות עכשווית\\nאמנות ישראלית\\nאמנות מושגית\\nפילוסופיה של האמנות\\nאמנות חזותית\\nאמנות סיבים\\nאמנות פמיניסטית\\nאמנות אפריקאית\\n\\nלקריאה נוספת\\nאורה גולדנברג (עורכת), אמנות: כל ההקשרים, הוצאת עלמ\"א - עסקים למען אמנות והוצאת ידיעות אחרונות, 1999\\n\\nקישורים חיצוניים\\nמדריך האמנות הבינלאומי (באנגלית)\\nמאמרים, כתבות, אירועים ומאגרי מידע בנושא אמנות באתר קולקט\\nעל אורבניות ואמנות – הרצאה מאתר 12 דקות \\nקן רובינסון טוען שבתי הספר הורגים את היצירתיות – על החשיבות של לימודי האמנות במערכת החינוך. הרצאה באנגלית מאתר TED עם כתוביות בעברית \\nיונתן הירשפלד, \\u200fבלק הכלב המשוגע, אודיסאה 8, יולי 2010, עמ\\' 24–27\\nרן לוי, מבטה המאיים של פירנצה – על יצירות מופת באמנות (אורכב 06.12.2017 בארכיון Wayback Machine), בתוכנית \"עושים היסטוריה\" באתר iCast, 24 בספטמבר 2010\\n שני ליטמן, מחקרו פורץ הדרך של פרופ\\' דייוויד פרידברג חושף מה קורה במוח כשאנחנו מביטים ביצירת אמנות, באתר הארץ, 17 באפריל 2015\\n נמרוד אלוני, מדוע מבקשים השליטים ואדוני האמת האחת להשתיק את היוצרים, באתר הארץ, 6 בדצמבר 2017\\n ספיישל תולדות האומנות!, הסכת \"היסטוריה גדולה, בקטנה\", 23 ביולי 2021\\nמילונים ואנציקלופדיות\\nהיסטוריה של האמנות עם ביוגרפיות ויצירות\\nאנציקלופדיה לאמנות\\nאמנות, באתר אנציקלופדיה בריטניקה (באנגלית)\\n אמנות, דף שער בספרייה הלאומית\\n\\n\\n== הערות שוליים =='"
      ]
     },
     "execution_count": 31,
     "metadata": {},
     "output_type": "execute_result"
    }
   ],
   "source": [
    "wiki_he.page(\"אמנות\").text"
   ]
  },
  {
   "cell_type": "code",
   "execution_count": 32,
   "id": "386d0834-8592-4bdb-8461-4485e6b0ecc6",
   "metadata": {},
   "outputs": [
    {
     "data": {
      "text/plain": [
       "Art (id: ??, ns: 0)"
      ]
     },
     "execution_count": 32,
     "metadata": {},
     "output_type": "execute_result"
    }
   ],
   "source": [
    "page=wiki_en.page(\"Art\")\n",
    "page"
   ]
  },
  {
   "cell_type": "code",
   "execution_count": 33,
   "id": "dff07029-5354-40fc-8f0c-734aa4f47871",
   "metadata": {},
   "outputs": [
    {
     "data": {
      "text/plain": [
       "אמנות (id: ??, ns: 0)"
      ]
     },
     "execution_count": 33,
     "metadata": {},
     "output_type": "execute_result"
    }
   ],
   "source": [
    "page.langlinks.get('he')"
   ]
  },
  {
   "cell_type": "code",
   "execution_count": 34,
   "id": "790988a6-71be-459b-89be-00843002eb33",
   "metadata": {},
   "outputs": [
    {
     "data": {
      "text/plain": [
       "'אמנות'"
      ]
     },
     "execution_count": 34,
     "metadata": {},
     "output_type": "execute_result"
    }
   ],
   "source": [
    "page.langlinks.get('he').title"
   ]
  },
  {
   "cell_type": "code",
   "execution_count": 35,
   "id": "7b7e996d-58ca-46da-899d-fc81597bc3e5",
   "metadata": {},
   "outputs": [
    {
     "data": {
      "text/plain": [
       "אמנות (id: ??, ns: 0)"
      ]
     },
     "execution_count": 35,
     "metadata": {},
     "output_type": "execute_result"
    }
   ],
   "source": [
    "page2=wiki_en.page(page.langlinks.get('he').title)\n",
    "page2"
   ]
  },
  {
   "cell_type": "code",
   "execution_count": 36,
   "id": "b3a0822b-80e3-44ed-9f18-66311ac3ac35",
   "metadata": {},
   "outputs": [
    {
     "data": {
      "text/plain": [
       "[]"
      ]
     },
     "execution_count": 36,
     "metadata": {},
     "output_type": "execute_result"
    }
   ],
   "source": [
    "page2.sections"
   ]
  },
  {
   "cell_type": "code",
   "execution_count": null,
   "id": "c5cb1a52-eaaa-494e-9974-a8df9ae80666",
   "metadata": {},
   "outputs": [],
   "source": []
  },
  {
   "cell_type": "code",
   "execution_count": 37,
   "id": "f2358aba-4b7e-4d82-8616-bfaf140c63ff",
   "metadata": {
    "scrolled": true
   },
   "outputs": [
    {
     "ename": "SyntaxError",
     "evalue": "positional argument follows keyword argument (2172734875.py, line 2)",
     "output_type": "error",
     "traceback": [
      "\u001b[0;36m  Cell \u001b[0;32mIn[37], line 2\u001b[0;36m\u001b[0m\n\u001b[0;31m    wiki_en = wikipediaapi.Wikipedia(language='en',user_agent=user_agent,headers)\u001b[0m\n\u001b[0m                                                                                ^\u001b[0m\n\u001b[0;31mSyntaxError\u001b[0m\u001b[0;31m:\u001b[0m positional argument follows keyword argument\n"
     ]
    }
   ],
   "source": [
    "\n",
    "# Initialize Wikipedia API for English and Hebrew\n",
    "wiki_en = wikipediaapi.Wikipedia(language='en',user_agent=user_agent,headers=headers)\n",
    "wiki_he = wikipediaapi.Wikipedia(language='he',user_agent=user_agent,headers=headers)\n",
    "\n",
    "def get_article_pairs(title):\n",
    "    # Get English page\n",
    "    page_en = wiki_en.page(title)\n",
    "\n",
    "    if not page_en.exists():\n",
    "        print(\"English page not found\")\n",
    "        return None\n",
    "\n",
    "    # Get corresponding Hebrew page\n",
    "    page_he_title = page_en.langlinks.get('he')\n",
    "    if page_he_title:\n",
    "        page_he = wiki_he.page(page_he_title.title)\n",
    "        if page_he.exists():\n",
    "            return page_en.text, page_he.text\n",
    "        else:\n",
    "            print(\"Hebrew page not found\")\n",
    "    else:\n",
    "        print(\"No interlanguage link to Hebrew\")\n",
    "\n",
    "# Example usage\n",
    "english_text, hebrew_text = get_article_pairs(\"Art\")\n"
   ]
  },
  {
   "cell_type": "code",
   "execution_count": 38,
   "id": "7b092853-4fdf-4ac8-ae4e-60be319b1c40",
   "metadata": {},
   "outputs": [
    {
     "ename": "NameError",
     "evalue": "name 'english_text' is not defined",
     "output_type": "error",
     "traceback": [
      "\u001b[0;31m---------------------------------------------------------------------------\u001b[0m",
      "\u001b[0;31mNameError\u001b[0m                                 Traceback (most recent call last)",
      "Cell \u001b[0;32mIn[38], line 1\u001b[0m\n\u001b[0;32m----> 1\u001b[0m \u001b[43menglish_text\u001b[49m\n",
      "\u001b[0;31mNameError\u001b[0m: name 'english_text' is not defined"
     ]
    }
   ],
   "source": [
    "english_text"
   ]
  },
  {
   "cell_type": "code",
   "execution_count": 8,
   "id": "5244842b-007f-45a0-aa02-5662676ac4c2",
   "metadata": {},
   "outputs": [
    {
     "data": {
      "text/plain": [
       "dict_keys(['wiki', '_summary', '_section', '_section_mapping', '_langlinks', '_links', '_backlinks', '_categories', '_categorymembers', '_called', '_attributes'])"
      ]
     },
     "execution_count": 8,
     "metadata": {},
     "output_type": "execute_result"
    }
   ],
   "source": [
    "page=wiki_en.page(\"Art\")\n",
    "page.__dict__.keys()"
   ]
  },
  {
   "cell_type": "code",
   "execution_count": 10,
   "id": "844e99c7-b84c-41f2-a2f9-133ef62f1dd4",
   "metadata": {},
   "outputs": [
    {
     "data": {
      "text/plain": [
       "list"
      ]
     },
     "execution_count": 10,
     "metadata": {},
     "output_type": "execute_result"
    }
   ],
   "source": [
    "type(page.sections)"
   ]
  },
  {
   "cell_type": "code",
   "execution_count": 12,
   "id": "68288f78-8087-4936-8177-2d36b069653f",
   "metadata": {},
   "outputs": [
    {
     "data": {
      "text/plain": [
       "wikipediaapi.WikipediaPageSection"
      ]
     },
     "execution_count": 12,
     "metadata": {},
     "output_type": "execute_result"
    }
   ],
   "source": [
    "type(page.sections[0])"
   ]
  },
  {
   "cell_type": "code",
   "execution_count": 11,
   "id": "2c4330d2-1231-4c5d-a1f2-79d5b3c2dae0",
   "metadata": {},
   "outputs": [
    {
     "data": {
      "text/plain": [
       "14"
      ]
     },
     "execution_count": 11,
     "metadata": {},
     "output_type": "execute_result"
    }
   ],
   "source": [
    "len(page.sections)"
   ]
  },
  {
   "cell_type": "code",
   "execution_count": 13,
   "id": "3fc31719-7e19-4367-b5bf-8bb61590eb5a",
   "metadata": {},
   "outputs": [
    {
     "data": {
      "text/plain": [
       "dict_keys(['wiki', '_title', '_level', '_text', '_section'])"
      ]
     },
     "execution_count": 13,
     "metadata": {},
     "output_type": "execute_result"
    }
   ],
   "source": [
    "page.sections[0].__dict__.keys()"
   ]
  },
  {
   "cell_type": "code",
   "execution_count": 14,
   "id": "717c5a89-16f2-419f-955a-b883c85f415f",
   "metadata": {},
   "outputs": [
    {
     "data": {
      "text/plain": [
       "'In the perspective of the history of art, artistic works have existed for almost as long as humankind: from early prehistoric art to contemporary art; however, some theorists think that the typical concept of \"artistic works\" does not fit well outside modern Western societies. One early sense of the definition of art is closely related to the older Latin meaning, which roughly translates to \"skill\" or \"craft\", as associated with words such as \"artisan\". English words derived from this meaning include artifact, artificial, artifice, medical arts, and military arts. However, there are many other colloquial uses of the word, all with some relation to its etymology.\\n\\nOver time, philosophers like Plato, Aristotle, Socrates and Immanuel Kant, among others, questioned the meaning of art. Several dialogues in Plato tackle questions about art: Socrates says that poetry is inspired by the muses, and is not rational. He speaks approvingly of this, and other forms of divine madness (drunkenness, eroticism, and dreaming) in the Phaedrus (265a–c), and yet in the Republic wants to outlaw Homer\\'s great poetic art, and laughter as well. In Ion, Socrates gives no hint of the disapproval of Homer that he expresses in the Republic. The dialogue Ion suggests that Homer\\'s Iliad functioned in the ancient Greek world as the Bible does today in the modern Christian world: as divinely inspired literary art that can provide moral guidance, if only it can be properly interpreted.With regards to the literary art and the musical arts, Aristotle considered epic poetry, tragedy, comedy, Dithyrambic poetry and music to be mimetic or imitative art, each varying in imitation by medium, object, and manner. For example, music imitates with the media of rhythm and harmony, whereas dance imitates with rhythm alone, and poetry with language. The forms also differ in their object of imitation. Comedy, for instance, is a dramatic imitation of men worse than average; whereas tragedy imitates men slightly better than average. Lastly, the forms differ in their manner of imitation—through narrative or character, through change or no change, and through drama or no drama. Aristotle believed that imitation is natural to mankind and constitutes one of mankind\\'s advantages over animals.The more recent and specific sense of the word art as an abbreviation for creative art or fine art emerged in the early 17th century. Fine art refers to a skill used to express the artist\\'s creativity, or to engage the audience\\'s aesthetic sensibilities, or to draw the audience towards consideration of more refined or finer works of art.\\nWithin this latter sense, the word art may refer to several things: (i) a study of a creative skill, (ii) a process of using the creative skill, (iii) a product of the creative skill, or (iv) the audience\\'s experience with the creative skill. The creative arts (art as discipline) are a collection of disciplines which produce artworks (art as objects) that are compelled by a personal drive (art as activity) and convey a message, mood, or symbolism for the perceiver to interpret (art as experience). Art is something that stimulates an individual\\'s thoughts, emotions, beliefs, or ideas through the senses. Works of art can be explicitly made for this purpose or interpreted on the basis of images or objects. For some scholars, such as Kant, the sciences and the arts could be distinguished by taking science as representing the domain of knowledge and the arts as representing the domain of the freedom of artistic expression.\\nOften, if the skill is being used in a common or practical way, people will consider it a craft instead of art. Likewise, if the skill is being used in a commercial or industrial way, it may be considered commercial art instead of fine art. On the other hand, crafts and design are sometimes considered applied art. Some art followers have argued that the difference between fine art and applied art has more to do with value judgments made about the art than any clear definitional difference. However, even fine art often has goals beyond pure creativity and self-expression. The purpose of works of art may be to communicate ideas, such as in politically, spiritually, or philosophically motivated art; to create a sense of beauty (see aesthetics); to explore the nature of perception; for pleasure; or to generate strong emotions. The purpose may also be seemingly nonexistent.\\nThe nature of art has been described by philosopher Richard Wollheim as \"one of the most elusive of the traditional problems of human culture\". Art has been defined as a vehicle for the expression or communication of emotions and ideas, a means for exploring and appreciating formal elements for their own sake, and as mimesis or representation. Art as mimesis has deep roots in the philosophy of Aristotle. Leo Tolstoy identified art as a use of indirect means to communicate from one person to another. Benedetto Croce and R. G. Collingwood advanced the idealist view that art expresses emotions, and that the work of art therefore essentially exists in the mind of the creator. The theory of art as form has its roots in the philosophy of Kant, and was developed in the early 20th century by Roger Fry and Clive Bell. More recently, thinkers influenced by Martin Heidegger have interpreted art as the means by which a community develops for itself a medium for self-expression and interpretation. George Dickie has offered an institutional theory of art that defines a work of art as any artifact upon which a qualified person or persons acting on behalf of the social institution commonly referred to as \"the art world\" has conferred \"the status of candidate for appreciation\". Larry Shiner has described fine art as \"not an essence or a fate but something we have made. Art as we have generally understood it is a European invention barely two hundred years old.\"Art may be characterized in terms of mimesis (its representation of reality), narrative (storytelling), expression, communication of emotion, or other qualities. During the Romantic period, art came to be seen as \"a special faculty of the human mind to be classified with religion and science\".'"
      ]
     },
     "execution_count": 14,
     "metadata": {},
     "output_type": "execute_result"
    }
   ],
   "source": [
    "page.sections[0].text"
   ]
  },
  {
   "cell_type": "code",
   "execution_count": 15,
   "id": "9de5f164-4072-4f66-8b0c-19f000580b74",
   "metadata": {},
   "outputs": [
    {
     "data": {
      "text/plain": [
       "'Art is a diverse range of human activity, and its resulting product, that involves creative or imaginative talent generally expressive of technical proficiency, beauty, emotional power, or conceptual ideas.There is no generally agreed definition of what constitutes art, and its interpretation has varied greatly throughout history and across cultures. In the Western tradition, the three classical branches of visual art are painting, sculpture, and architecture. Theatre, dance, and other performing arts, as well as literature, music, film and other media such as interactive media, are included in a broader definition of the arts. Until the 17th century, art referred to any skill or mastery and was not differentiated from crafts or sciences. In modern usage after the 17th century, where aesthetic considerations are paramount, the fine arts are separated and distinguished from acquired skills in general, such as the decorative or applied arts.\\nThe nature of art and related concepts, such as creativity and interpretation, are explored in a branch of philosophy known as aesthetics. The resulting artworks are studied in the professional fields of art criticism and the history of art.'"
      ]
     },
     "execution_count": 15,
     "metadata": {},
     "output_type": "execute_result"
    }
   ],
   "source": [
    "page.summary"
   ]
  },
  {
   "cell_type": "code",
   "execution_count": 16,
   "id": "49ad1c56-9570-4eaa-811c-fff2db21f0bc",
   "metadata": {},
   "outputs": [
    {
     "data": {
      "text/plain": [
       "'Art is a diverse range of human activity, and its resulting product, that involves creative or imaginative talent generally expressive of technical proficiency, beauty, emotional power, or conceptual ideas.There is no generally agreed definition of what constitutes art, and its interpretation has varied greatly throughout history and across cultures. In the Western tradition, the three classical branches of visual art are painting, sculpture, and architecture. Theatre, dance, and other performing arts, as well as literature, music, film and other media such as interactive media, are included in a broader definition of the arts. Until the 17th century, art referred to any skill or mastery and was not differentiated from crafts or sciences. In modern usage after the 17th century, where aesthetic considerations are paramount, the fine arts are separated and distinguished from acquired skills in general, such as the decorative or applied arts.\\nThe nature of art and related concepts, such as creativity and interpretation, are explored in a branch of philosophy known as aesthetics. The resulting artworks are studied in the professional fields of art criticism and the history of art.\\n\\nOverview\\nIn the perspective of the history of art, artistic works have existed for almost as long as humankind: from early prehistoric art to contemporary art; however, some theorists think that the typical concept of \"artistic works\" does not fit well outside modern Western societies. One early sense of the definition of art is closely related to the older Latin meaning, which roughly translates to \"skill\" or \"craft\", as associated with words such as \"artisan\". English words derived from this meaning include artifact, artificial, artifice, medical arts, and military arts. However, there are many other colloquial uses of the word, all with some relation to its etymology.\\n\\nOver time, philosophers like Plato, Aristotle, Socrates and Immanuel Kant, among others, questioned the meaning of art. Several dialogues in Plato tackle questions about art: Socrates says that poetry is inspired by the muses, and is not rational. He speaks approvingly of this, and other forms of divine madness (drunkenness, eroticism, and dreaming) in the Phaedrus (265a–c), and yet in the Republic wants to outlaw Homer\\'s great poetic art, and laughter as well. In Ion, Socrates gives no hint of the disapproval of Homer that he expresses in the Republic. The dialogue Ion suggests that Homer\\'s Iliad functioned in the ancient Greek world as the Bible does today in the modern Christian world: as divinely inspired literary art that can provide moral guidance, if only it can be properly interpreted.With regards to the literary art and the musical arts, Aristotle considered epic poetry, tragedy, comedy, Dithyrambic poetry and music to be mimetic or imitative art, each varying in imitation by medium, object, and manner. For example, music imitates with the media of rhythm and harmony, whereas dance imitates with rhythm alone, and poetry with language. The forms also differ in their object of imitation. Comedy, for instance, is a dramatic imitation of men worse than average; whereas tragedy imitates men slightly better than average. Lastly, the forms differ in their manner of imitation—through narrative or character, through change or no change, and through drama or no drama. Aristotle believed that imitation is natural to mankind and constitutes one of mankind\\'s advantages over animals.The more recent and specific sense of the word art as an abbreviation for creative art or fine art emerged in the early 17th century. Fine art refers to a skill used to express the artist\\'s creativity, or to engage the audience\\'s aesthetic sensibilities, or to draw the audience towards consideration of more refined or finer works of art.\\nWithin this latter sense, the word art may refer to several things: (i) a study of a creative skill, (ii) a process of using the creative skill, (iii) a product of the creative skill, or (iv) the audience\\'s experience with the creative skill. The creative arts (art as discipline) are a collection of disciplines which produce artworks (art as objects) that are compelled by a personal drive (art as activity) and convey a message, mood, or symbolism for the perceiver to interpret (art as experience). Art is something that stimulates an individual\\'s thoughts, emotions, beliefs, or ideas through the senses. Works of art can be explicitly made for this purpose or interpreted on the basis of images or objects. For some scholars, such as Kant, the sciences and the arts could be distinguished by taking science as representing the domain of knowledge and the arts as representing the domain of the freedom of artistic expression.\\nOften, if the skill is being used in a common or practical way, people will consider it a craft instead of art. Likewise, if the skill is being used in a commercial or industrial way, it may be considered commercial art instead of fine art. On the other hand, crafts and design are sometimes considered applied art. Some art followers have argued that the difference between fine art and applied art has more to do with value judgments made about the art than any clear definitional difference. However, even fine art often has goals beyond pure creativity and self-expression. The purpose of works of art may be to communicate ideas, such as in politically, spiritually, or philosophically motivated art; to create a sense of beauty (see aesthetics); to explore the nature of perception; for pleasure; or to generate strong emotions. The purpose may also be seemingly nonexistent.\\nThe nature of art has been described by philosopher Richard Wollheim as \"one of the most elusive of the traditional problems of human culture\". Art has been defined as a vehicle for the expression or communication of emotions and ideas, a means for exploring and appreciating formal elements for their own sake, and as mimesis or representation. Art as mimesis has deep roots in the philosophy of Aristotle. Leo Tolstoy identified art as a use of indirect means to communicate from one person to another. Benedetto Croce and R. G. Collingwood advanced the idealist view that art expresses emotions, and that the work of art therefore essentially exists in the mind of the creator. The theory of art as form has its roots in the philosophy of Kant, and was developed in the early 20th century by Roger Fry and Clive Bell. More recently, thinkers influenced by Martin Heidegger have interpreted art as the means by which a community develops for itself a medium for self-expression and interpretation. George Dickie has offered an institutional theory of art that defines a work of art as any artifact upon which a qualified person or persons acting on behalf of the social institution commonly referred to as \"the art world\" has conferred \"the status of candidate for appreciation\". Larry Shiner has described fine art as \"not an essence or a fate but something we have made. Art as we have generally understood it is a European invention barely two hundred years old.\"Art may be characterized in terms of mimesis (its representation of reality), narrative (storytelling), expression, communication of emotion, or other qualities. During the Romantic period, art came to be seen as \"a special faculty of the human mind to be classified with religion and science\".\\n\\nHistory\\nA shell engraved by Homo erectus was determined to be between 430,000 and 540,000 years old. A set of eight 130,000 years old white-tailed eagle talons bear cut marks and abrasion that indicate manipulation by neanderthals, possibly for using it as jewelry. A series of tiny, drilled snail shells about 75,000 years old—were discovered in a South African cave. Containers that may have been used to hold paints have been found dating as far back as 100,000 years.The oldest piece of art found in Europe is the Riesenhirschknochen der Einhornhöhle, dating back 51,000 years and made by Neanderthals.\\nSculptures, cave paintings, rock paintings and petroglyphs from the Upper Paleolithic dating to roughly 40,000 years ago have been found, but the precise meaning of such art is often disputed because so little is known about the cultures that produced them.\\nThe first undisputed sculptures and similar art pieces, like the Venus of Hohle Fels, are the numerous objects found at the Caves and Ice Age Art in the Swabian Jura UNESCO World Heritage Site, where the oldest non-stationary works of human art yet discovered were found, in the form of carved animal and humanoid figurines, in addition to the oldest musical instruments unearthed so far, with the artifacts dating between 43,000 and 35,000 BC, so being the first centre of human art.\\nMany great traditions in art have a foundation in the art of one of the great ancient civilizations: Ancient Egypt, Mesopotamia, Persia, India, China, Ancient Greece, Rome, as well as Inca, Maya, and Olmec. Each of these centers of early civilization developed a unique and characteristic style in its art. Because of the size and duration of these civilizations, more of their art works have survived and more of their influence has been transmitted to other cultures and later times. Some also have provided the first records of how artists worked. For example, this period of Greek art saw a veneration of the human physical form and the development of equivalent skills to show musculature, poise, beauty, and anatomically correct proportions.In Byzantine and Medieval art of the Western Middle Ages, much art focused on the expression of subjects about biblical and religious culture, and used styles that showed the higher glory of a heavenly world, such as the use of gold in the background of paintings, or glass in mosaics or windows, which also presented figures in idealized, patterned (flat) forms. Nevertheless, a classical realist tradition persisted in small Byzantine works, and realism steadily grew in the art of Catholic Europe.Renaissance art had a greatly increased emphasis on the realistic depiction of the material world, and the place of humans in it, reflected in the corporeality of the human body, and development of a systematic method of graphical perspective to depict recession in a three-dimensional picture space.\\nIn the east, Islamic art\\'s rejection of iconography led to emphasis on geometric patterns, calligraphy, and architecture. Further east, religion dominated artistic styles and forms too. India and Tibet saw emphasis on painted sculptures and dance, while religious painting borrowed many conventions from sculpture and tended to bright contrasting colors with emphasis on outlines. China saw the flourishing of many art forms: jade carving, bronzework, pottery (including the stunning terracotta army of Emperor Qin), poetry, calligraphy, music, painting, drama, fiction, etc. Chinese styles vary greatly from era to era and each one is traditionally named after the ruling dynasty. So, for example, Tang dynasty paintings are monochromatic and sparse, emphasizing idealized landscapes, but Ming dynasty paintings are busy and colorful, and focus on telling stories via setting and composition. Japan names its styles after imperial dynasties too, and also saw much interplay between the styles of calligraphy and painting. Woodblock printing became important in Japan after the 17th century.\\nThe western Age of Enlightenment in the 18th century saw artistic depictions of physical and rational certainties of the clockwork universe, as well as politically revolutionary visions of a post-monarchist world, such as Blake\\'s portrayal of Newton as a divine geometer, or David\\'s propagandistic paintings. This led to Romantic rejections of this in favor of pictures of the emotional side and individuality of humans, exemplified in the novels of Goethe. The late 19th century then saw a host of artistic movements, such as academic art, Symbolism, impressionism and fauvism among others.The history of 20th-century art is a narrative of endless possibilities and the search for new standards, each being torn down in succession by the next. Thus the parameters of Impressionism, Expressionism, Fauvism, Cubism, Dadaism, Surrealism, etc. cannot be maintained very much beyond the time of their invention. Increasing global interaction during this time saw an equivalent influence of other cultures into Western art. Thus, Japanese woodblock prints (themselves influenced by Western Renaissance draftsmanship) had an immense influence on impressionism and subsequent development. Later, African sculptures were taken up by Picasso and to some extent by Matisse. Similarly, in the 19th and 20th centuries the West has had huge impacts on Eastern art with originally western ideas like Communism and Post-Modernism exerting a powerful influence.Modernism, the idealistic search for truth, gave way in the latter half of the 20th century to a realization of its unattainability. Theodor W. Adorno said in 1970, \"It is now taken for granted that nothing which concerns art can be taken for granted any more: neither art itself, nor art in relationship to the whole, nor even the right of art to exist.\" Relativism was accepted as an unavoidable truth, which led to the period of contemporary art and postmodern criticism, where cultures of the world and of history are seen as changing forms, which can be appreciated and drawn from only with skepticism and irony. Furthermore, the separation of cultures is increasingly blurred and some argue it is now more appropriate to think in terms of a global culture, rather than of regional ones.In The Origin of the Work of Art, Martin Heidegger, a German philosopher and seminal thinker, describes the essence of art in terms of the concepts of being and truth. He argues that art is not only a way of expressing the element of truth in a culture, but the means of creating it and providing a springboard from which \"that which is\" can be revealed. Works of art are not merely representations of the way things are, but actually produce a community\\'s shared understanding. Each time a new artwork is added to any culture, the meaning of what it is to exist is inherently changed.\\nHistorically, art and artistic skills and ideas have often been spread through trade. An example of this is the Silk Road, where Hellenistic, Iranian, Indian and Chinese influences could mix. Greco Buddhist art is one of the most vivid examples of this interaction. The meeting of different cultures and worldviews also influenced artistic creation. An example of this is the multicultural port metropolis of Trieste at the beginning of the 20th century, where James Joyce met writers from Central Europe and the artistic development of New York City as a cultural melting pot.\\n\\nForms, genres, media, and styles\\nThe creative arts are often divided into more specific categories, typically along perceptually distinguishable categories such as media, genre, styles, and form. Art form refers to the elements of art that are independent of its interpretation or significance. It covers the methods adopted by the artist and the physical composition of the artwork, primarily non-semantic aspects of the work (i.e., figurae), such as color, contour, dimension, medium, melody, space, texture, and value. Form may also include Design principles, such as arrangement, balance, contrast, emphasis, harmony, proportion, proximity, and rhythm.In general there are three schools of philosophy regarding art, focusing respectively on form, content, and context. Extreme Formalism is the view that all aesthetic properties of art are formal (that is, part of the art form). Philosophers almost universally reject this view and hold that the properties and aesthetics of art extend beyond materials, techniques, and form. Unfortunately, there is little consensus on terminology for these informal properties. Some authors refer to subject matter and content—i.e., denotations and connotations—while others prefer terms like meaning and significance.Extreme Intentionalism holds that authorial intent plays a decisive role in the meaning of a work of art, conveying the content or essential main idea, while all other interpretations can be discarded. It defines the subject as the persons or idea represented, and the content as the artist\\'s experience of that subject. For example, the composition of Napoleon I on his Imperial Throne is partly borrowed from the Statue of Zeus at Olympia. As evidenced by the title, the subject is Napoleon, and the content is Ingres\\'s representation of Napoleon as \"Emperor-God beyond time and space\". Similarly to extreme formalism, philosophers typically reject extreme intentionalism, because art may have multiple ambiguous meanings and authorial intent may be unknowable and thus irrelevant. Its restrictive interpretation is \"socially unhealthy, philosophically unreal, and politically unwise\".Finally, the developing theory of post-structuralism studies art\\'s significance in a cultural context, such as the ideas, emotions, and reactions prompted by a work. The cultural context often reduces to the artist\\'s techniques and intentions, in which case analysis proceeds along lines similar to formalism and intentionalism. However, in other cases historical and material conditions may predominate, such as religious and philosophical convictions, sociopolitical and economic structures, or even climate and geography. Art criticism continues to grow and develop alongside art.\\n\\nSkill and craft\\nArt can connote a sense of trained ability or mastery of a medium. Art can also refer to the developed and efficient use of a language to convey meaning with immediacy or depth. Art can be defined as an act of expressing feelings, thoughts, and observations.There is an understanding that is reached with the material as a result of handling it, which facilitates one\\'s thought processes.\\nA common view is that the epithet art, particular in its elevated sense, requires a certain level of creative expertise by the artist, whether this be a demonstration of technical ability, an originality in stylistic approach, or a combination of these two. Traditionally skill of execution was viewed as a quality inseparable from art and thus necessary for its success; for Leonardo da Vinci, art, neither more nor less than his other endeavors, was a manifestation of skill. Rembrandt\\'s work, now praised for its ephemeral virtues, was most admired by his contemporaries for its virtuosity. At the turn of the 20th century, the adroit performances of John Singer Sargent were alternately admired and viewed with skepticism for their manual fluency, yet at nearly the same time the artist who would become the era\\'s most recognized and peripatetic iconoclast, Pablo Picasso, was completing a traditional academic training at which he excelled.\\nA common contemporary criticism of some modern art occurs along the lines of objecting to the apparent lack of skill or ability required in the production of the artistic object. In conceptual art, Marcel Duchamp\\'s Fountain is among the first examples of pieces wherein the artist used found objects (\"ready-made\") and exercised no traditionally recognised set of skills. Tracey Emin\\'s My Bed, or Damien Hirst\\'s The Physical Impossibility of Death in the Mind of Someone Living follow this example and also manipulate the mass media. Emin slept (and engaged in other activities) in her bed before placing the result in a gallery as work of art. Hirst came up with the conceptual design for the artwork but has left most of the eventual creation of many works to employed artisans. Hirst\\'s celebrity is founded entirely on his ability to produce shocking concepts. The actual production in many conceptual and contemporary works of art is a matter of assembly of found objects. However, there are many modernist and contemporary artists who continue to excel in the skills of drawing and painting and in creating hands-on works of art.\\n\\nPurpose\\nArt has had a great number of different functions throughout its history, making its purpose difficult to abstract or quantify to any single concept. This does not imply that the purpose of art is \"vague\", but that it has had many unique, different reasons for being created. Some of these functions of art are provided in the following outline. The different purposes of art may be grouped according to those that are non-motivated, and those that are motivated (Lévi-Strauss).\\n\\nNon-motivated functions\\nThe non-motivated purposes of art are those that are integral to being human, transcend the individual, or do not fulfill a specific external purpose. In this sense, Art, as creativity, is something humans must do by their very nature (i.e., no other species creates art), and is therefore beyond utility.\\nBasic human instinct for harmony, balance, rhythm. Art at this level is not an action or an object, but an internal appreciation of balance and harmony (beauty), and therefore an aspect of being human beyond utility.Imitation, then, is one instinct of our nature. Next, there is the instinct for \\'harmony\\' and rhythm, meters being manifestly sections of rhythm. Persons, therefore, starting with this natural gift developed by degrees their special aptitudes, till their rude improvisations gave birth to Poetry. – Aristotle\\nExperience of the mysterious. Art provides a way to experience one\\'s self in relation to the universe. This experience may often come unmotivated, as one appreciates art, music or poetry.The most beautiful thing we can experience is the mysterious. It is the source of all true art and science. – Albert Einstein\\nExpression of the imagination. Art provides a means to express the imagination in non-grammatic ways that are not tied to the formality of spoken or written language. Unlike words, which come in sequences and each of which have a definite meaning, art provides a range of forms, symbols and ideas with meanings that are malleable.Jupiter\\'s eagle [as an example of art] is not, like logical (aesthetic) attributes of an object, the concept of the sublimity and majesty of creation, but rather something else—something that gives the imagination an incentive to spread its flight over a whole host of kindred representations that provoke more thought than admits of expression in a concept determined by words. They furnish an aesthetic idea, which serves the above rational idea as a substitute for logical presentation, but with the proper function, however, of animating the mind by opening out for it a prospect into a field of kindred representations stretching beyond its ken. – Immanuel Kant\\nRitualistic and symbolic functions. In many cultures, art is used in rituals, performances and dances as a decoration or symbol. While these often have no specific utilitarian (motivated) purpose, anthropologists know that they often serve a purpose at the level of meaning within a particular culture. This meaning is not furnished by any one individual, but is often the result of many generations of change, and of a cosmological relationship within the culture.Most scholars who deal with rock paintings or objects recovered from prehistoric contexts that cannot be explained in utilitarian terms and are thus categorized as decorative, ritual or symbolic, are aware of the trap posed by the term \\'art\\'. – Silva Tomaskova\\n\\nMotivated functions\\nMotivated purposes of art refer to intentional, conscious actions on the part of the artists or creator. These may be to bring about political change, to comment on an aspect of society, to convey a specific emotion or mood, to address personal psychology, to illustrate another discipline, to (with commercial arts) sell a product, or used as a form of communication.\\nCommunication. Art, at its simplest, is a form of communication. As most forms of communication have an intent or goal directed toward another individual, this is a motivated purpose. Illustrative arts, such as scientific illustration, are a form of art as communication. Maps are another example. However, the content need not be scientific. Emotions, moods and feelings are also communicated through art.[Art is a set of] artefacts or images with symbolic meanings as a means of communication. – Steve Mithen\\nArt as entertainment. Art may seek to bring about a particular emotion or mood, for the purpose of relaxing or entertaining the viewer. This is often the function of the art industries of motion pictures and video games.\\nThe Avant-Garde. Art for political change. One of the defining functions of early 20th-century art has been to use visual images to bring about political change. Art movements that had this goal—Dadaism, Surrealism, Russian constructivism, and Abstract Expressionism, among others—are collectively referred to as the avant-garde arts.By contrast, the realistic attitude, inspired by positivism, from Saint Thomas Aquinas to Anatole France, clearly seems to me to be hostile to any intellectual or moral advancement. I loathe it, for it is made up of mediocrity, hate, and dull conceit. It is this attitude which today gives birth to these ridiculous books, these insulting plays. It constantly feeds on and derives strength from the newspapers and stultifies both science and art by assiduously flattering the lowest of tastes; clarity bordering on stupidity, a dog\\'s life. – André Breton (Surrealism)\\nArt as a \"free zone\", removed from the action of the social censure. Unlike the avant-garde movements, which wanted to erase cultural differences in order to produce new universal values, contemporary art has enhanced its tolerance towards cultural differences as well as its critical and liberating functions (social inquiry, activism, subversion, deconstruction, etc.), becoming a more open place for research and experimentation.\\nArt for social inquiry, subversion or anarchy. While similar to art for political change, subversive or deconstructivist art may seek to question aspects of society without any specific political goal. In this case, the function of art may be used to criticize some aspect of society. Graffiti art and other types of street art are graphics and images that are spray-painted or stencilled on publicly viewable walls, buildings, buses, trains, and bridges, usually without permission. Certain art forms, such as graffiti, may also be illegal when they break laws (in this case vandalism).\\nArt for social causes. Art can be used to raise awareness for a large variety of causes. A number of art activities were aimed at raising awareness of autism, cancer, human trafficking, and a variety of other topics, such as ocean conservation, human rights in Darfur, murdered and missing Aboriginal women, elder abuse, and pollution. Trashion, using trash to make fashion, practiced by artists such as Marina DeBris is one example of using art to raise awareness about pollution.\\nArt for psychological and healing purposes. Art is also used by art therapists, psychotherapists and clinical psychologists as art therapy. The Diagnostic Drawing Series, for example, is used to determine the personality and emotional functioning of a patient. The end product is not the principal goal in this case, but rather a process of healing, through creative acts, is sought. The resultant piece of artwork may also offer insight into the troubles experienced by the subject and may suggest suitable approaches to be used in more conventional forms of psychiatric therapy.\\nArt for propaganda, or commercialism. Art is often used as a form of propaganda, and thus can be used to subtly influence popular conceptions or mood. In a similar way, art that tries to sell a product also influences mood and emotion. In both cases, the purpose of art here is to subtly manipulate the viewer into a particular emotional or psychological response toward a particular idea or object.\\nArt as a fitness indicator. It has been argued that the ability of the human brain by far exceeds what was needed for survival in the ancestral environment. One evolutionary psychology explanation for this is that the human brain and associated traits (such as artistic ability and creativity) are the human equivalent of the peacock\\'s tail. The purpose of the male peacock\\'s extravagant tail has been argued to be to attract females (see also Fisherian runaway and handicap principle). According to this theory superior execution of art was evolutionarily important because it attracted mates.The functions of art described above are not mutually exclusive, as many of them may overlap. For example, art for the purpose of entertainment may also seek to sell a product, i.e. the movie or video game.\\n\\nSteps\\nArt can be divided into any number of steps one can make an argument for. This section divides the creative process into broad three steps, but there is no consensus on an exact number.\\n\\nPreparation\\nIn the first step, the artist envisions the art in their mind. By imagining what their art would look like, the artist begins the process of bringing the art into existence. Preparation of art may involve approaching and researching the subject matter. Artistic inspiration is one of the main drivers of art, and may be considered to stem from instinct, impressions, and feelings.\\n\\nCreation\\nIn the second step, the artist executes the creation of their work. The creation of a piece can be affected by factors such as the artist\\'s mood, surroundings, and mental state. For example, The Black Paintings by Francisco de Goya, created in the elder years of his life, are thought to be so bleak because he was in isolation and because of his experience with war. He painted them directly on the walls of his apartment in Spain, and most likely never discussed them with anyone. The Beatles stated drugs such as LSD and cannabis influenced some of their greatest hits, such as Revolver. Trial and error are considered an integral part of the creation process.\\n\\nAppreciation\\nThe last step is art appreciation, which has the sub-topic of critique. In one study, over half of visual arts students agreed that reflection is an essential step of the art process. According to education journals, the reflection of art is considered an essential part of the experience. However an important aspect of art is that others may view and appreciate it as well. While many focus on whether those viewing/listening/etc. believe the art to be good/successful or not, art has profound value beyond its commercial success as a provider of information and health in society. Art enjoyment can bring about a wide spectrum of emotion due to beauty. Some art is meant to be practical, with its analysis studious, meant to stimulate discourse.\\n\\nPublic access\\nSince ancient times, much of the finest art has represented a deliberate display of wealth or power, often achieved by using massive scale and expensive materials. Much art has been commissioned by political rulers or religious establishments, with more modest versions only available to the most wealthy in society.Nevertheless, there have been many periods where art of very high quality was available, in terms of ownership, across large parts of society, above all in cheap media such as pottery, which persists in the ground, and perishable media such as textiles and wood. In many different cultures, the ceramics of indigenous peoples of the Americas are found in such a wide range of graves that they were clearly not restricted to a social elite, though other forms of art may have been. Reproductive methods such as moulds made mass-production easier, and were used to bring high-quality Ancient Roman pottery and Greek Tanagra figurines to a very wide market. Cylinder seals were both artistic and practical, and very widely used by what can be loosely called the middle class in the Ancient Near East. Once coins were widely used, these also became an art form that reached the widest range of society.Another important innovation came in the 15th century in Europe, when printmaking began with small woodcuts, mostly religious, that were often very small and hand-colored, and affordable even by peasants who glued them to the walls of their homes. Printed books were initially very expensive, but fell steadily in price until by the 19th century even the poorest could afford some with printed illustrations. Popular prints of many different sorts have decorated homes and other places for centuries.\\nIn 1661, the city of Basel, in Switzerland, opened the first public museum of art in the world, the Kunstmuseum Basel. Today, its collection is distinguished by an impressively wide historic span, from the early 15th century up to the immediate present. Its various areas of emphasis give it international standing as one of the most significant museums of its kind. These encompass: paintings and drawings by artists active in the Upper Rhine region between 1400 and 1600, and on the art of the 19th to 21st centuries.Public buildings and monuments, secular and religious, by their nature normally address the whole of society, and visitors as viewers, and display to the general public has long been an important factor in their design. Egyptian temples are typical in that the most largest and most lavish decoration was placed on the parts that could be seen by the general public, rather than the areas seen only by the priests. Many areas of royal palaces, castles and the houses of the social elite were often generally accessible, and large parts of the art collections of such people could often be seen, either by anybody, or by those able to pay a small price, or those wearing the correct clothes, regardless of who they were, as at the Palace of Versailles, where the appropriate extra accessories (silver shoe buckles and a sword) could be hired from shops outside.Special arrangements were made to allow the public to see many royal or private collections placed in galleries, as with the Orleans Collection mostly housed in a wing of the Palais Royal in Paris, which could be visited for most of the 18th century. In Italy the art tourism of the Grand Tour became a major industry from the Renaissance onwards, and governments and cities made efforts to make their key works accessible. The British Royal Collection remains distinct, but large donations such as the Old Royal Library were made from it to the British Museum, established in 1753. The Uffizi in Florence opened entirely as a gallery in 1765, though this function had been gradually taking the building over from the original civil servants\\' offices for a long time before. The building now occupied by the Prado in Madrid was built before the French Revolution for the public display of parts of the royal art collection, and similar royal galleries open to the public existed in Vienna, Munich and other capitals. The opening of the Musée du Louvre during the French Revolution (in 1793) as a public museum for much of the former French royal collection certainly marked an important stage in the development of public access to art, transferring ownership to a republican state, but was a continuation of trends already well established.Most modern public museums and art education programs for children in schools can be traced back to this impulse to have art available to everyone. However, museums do not only provide availability to art, but do also influence the way art is being perceived by the audience, as studies found. Thus, the museum itself is not only a blunt stage for the presentation of art, but plays an active and vital role in the overall perception of art in modern society.\\nMuseums in the United States tend to be gifts from the very rich to the masses. (The Metropolitan Museum of Art in New York City, for example, was created by John Taylor Johnston, a railroad executive whose personal art collection seeded the museum.) But despite all this, at least one of the important functions of art in the 21st century remains as a marker of wealth and social status.There have been attempts by artists to create art that can not be bought by the wealthy as a status object. One of the prime original motivators of much of the art of the late 1960s and 1970s was to create art that could not be bought and sold. It is \"necessary to present something more than mere objects\" said the major post war German artist Joseph Beuys. This time period saw the rise of such things as performance art, video art, and conceptual art. The idea was that if the artwork was a performance that would leave nothing behind, or was an idea, it could not be bought and sold. \"Democratic precepts revolving around the idea that a work of art is a commodity impelled the aesthetic innovation which germinated in the mid-1960s and was reaped throughout the 1970s. Artists broadly identified under the heading of Conceptual art ... substituting performance and publishing activities for engagement with both the material and materialistic concerns of painted or sculptural form ... [have] endeavored to undermine the art object qua object.\"\\nIn the decades since, these ideas have been somewhat lost as the art market has learned to sell limited edition DVDs of video works, invitations to exclusive performance art pieces, and the objects left over from conceptual pieces. Many of these performances create works that are only understood by the elite who have been educated as to why an idea or video or piece of apparent garbage may be considered art. The marker of status becomes understanding the work instead of necessarily owning it, and the artwork remains an upper-class activity. \"With the widespread use of DVD recording technology in the early 2000s, artists, and the gallery system that derives its profits from the sale of artworks, gained an important means of controlling the sale of video and computer artworks in limited editions to collectors.\"\\n\\nControversies\\nArt has long been controversial, that is to say disliked by some viewers, for a wide variety of reasons, though most pre-modern controversies are dimly recorded, or completely lost to a modern view. Iconoclasm is the destruction of art that is disliked for a variety of reasons, including religious ones. Aniconism is a general dislike of either all figurative images, or often just religious ones, and has been a thread in many major religions. It has been a crucial factor in the history of Islamic art, where depictions of Muhammad remain especially controversial. Much art has been disliked purely because it depicted or otherwise stood for unpopular rulers, parties or other groups. Artistic conventions have often been conservative and taken very seriously by art critics, though often much less so by a wider public. The iconographic content of art could cause controversy, as with late medieval depictions of the new motif of the Swoon of the Virgin in scenes of the Crucifixion of Jesus. The Last Judgment by Michelangelo was controversial for various reasons, including breaches of decorum through nudity and the Apollo-like pose of Christ.The content of much formal art through history was dictated by the patron or commissioner rather than just the artist, but with the advent of Romanticism, and economic changes in the production of art, the artists\\' vision became the usual determinant of the content of his art, increasing the incidence of controversies, though often reducing their significance. Strong incentives for perceived originality and publicity also encouraged artists to court controversy. Théodore Géricault\\'s Raft of the Medusa (c.\\u20091820), was in part a political commentary on a recent event. Édouard Manet\\'s Le Déjeuner sur l\\'Herbe (1863), was considered scandalous not because of the nude woman, but because she is seated next to men fully dressed in the clothing of the time, rather than in robes of the antique world. John Singer Sargent\\'s Madame Pierre Gautreau (Madam X) (1884), caused a controversy over the reddish pink used to color the woman\\'s ear lobe, considered far too suggestive and supposedly ruining the high-society model\\'s reputation.\\nThe gradual abandonment of naturalism and the depiction of realistic representations of the visual appearance of subjects in the 19th and 20th centuries led to a rolling controversy lasting for over a century.\\n\\nIn the 20th century, Pablo Picasso\\'s Guernica (1937) used arresting cubist techniques and stark monochromatic oils, to depict the harrowing consequences of a contemporary bombing of a small, ancient Basque town. Leon Golub\\'s Interrogation III (1981), depicts a female nude, hooded detainee strapped to a chair, her legs open to reveal her sexual organs, surrounded by two tormentors dressed in everyday clothing. Andres Serrano\\'s Piss Christ (1989) is a photograph of a crucifix, sacred to the Christian religion and representing Christ\\'s sacrifice and final suffering, submerged in a glass of the artist\\'s own urine. The resulting uproar led to comments in the United States Senate about public funding of the arts.\\n\\nTheory\\nBefore Modernism, aesthetics in Western art was greatly concerned with achieving the appropriate balance between different aspects of realism or truth to nature and the ideal; ideas as to what the appropriate balance is have shifted to and fro over the centuries. This concern is largely absent in other traditions of art. The aesthetic theorist John Ruskin, who championed what he saw as the naturalism of J. M. W. Turner, saw art\\'s role as the communication by artifice of an essential truth that could only be found in nature.The definition and evaluation of art has become especially problematic since the 20th century. Richard Wollheim distinguishes three approaches to assessing the aesthetic value of art: the Realist, whereby aesthetic quality is an absolute value independent of any human view; the Objectivist, whereby it is also an absolute value, but is dependent on general human experience; and the Relativist position, whereby it is not an absolute value, but depends on, and varies with, the human experience of different humans.\\n\\nArrival of Modernism\\nThe arrival of Modernism in the late 19th century led to a radical break in the conception of the function of art, and then again in the late 20th century with the advent of postmodernism. Clement Greenberg\\'s 1960 article \"Modernist Painting\" defines modern art as \"the use of characteristic methods of a discipline to criticize the discipline itself\". Greenberg originally applied this idea to the Abstract Expressionist movement and used it as a way to understand and justify flat (non-illusionistic) abstract painting:\\n\\nRealistic, naturalistic art had dissembled the medium, using art to conceal art; modernism used art to call attention to art. The limitations that constitute the medium of painting—the flat surface, the shape of the support, the properties of the pigment—were treated by the Old Masters as negative factors that could be acknowledged only implicitly or indirectly. Under Modernism these same limitations came to be regarded as positive factors, and were acknowledged openly. After Greenberg, several important art theorists emerged, such as Michael Fried, T. J. Clark, Rosalind Krauss, Linda Nochlin and Griselda Pollock among others. Though only originally intended as a way of understanding a specific set of artists, Greenberg\\'s definition of modern art is important to many of the ideas of art within the various art movements of the 20th century and early 21st century.Pop artists like Andy Warhol became both noteworthy and influential through work including and possibly critiquing popular culture, as well as the art world. Artists of the 1980s, 1990s, and 2000s expanded this technique of self-criticism beyond high art to all cultural image-making, including fashion images, comics, billboards and pornography.Duchamp once proposed that art is any activity of any kind-everything. However, the way that only certain activities are classified today as art is a social construction. There is evidence that there may be an element of truth to this. In The Invention of Art: A Cultural History, Larry Shiner examines the construction of the modern system of the arts, i.e. fine art. He finds evidence that the older system of the arts before our modern system (fine art) held art to be any skilled human activity; for example, Ancient Greek society did not possess the term art, but techne. Techne can be understood neither as art or craft, the reason being that the distinctions of art and craft are historical products that came later on in human history. Techne included painting, sculpting and music, but also cooking, medicine, horsemanship, geometry, carpentry, prophecy, and farming, etc.\\n\\nNew Criticism and the \"intentional fallacy\"\\nFollowing Duchamp during the first half of the 20th century, a significant shift to general aesthetic theory took place which attempted to apply aesthetic theory between various forms of art, including the literary arts and the visual arts, to each other. This resulted in the rise of the New Criticism school and debate concerning the intentional fallacy. At issue was the question of whether the aesthetic intentions of the artist in creating the work of art, whatever its specific form, should be associated with the criticism and evaluation of the final product of the work of art, or, if the work of art should be evaluated on its own merits independent of the intentions of the artist.In 1946, William K. Wimsatt and Monroe Beardsley published a classic and controversial New Critical essay entitled \"The Intentional Fallacy\", in which they argued strongly against the relevance of an author\\'s intention, or \"intended meaning\" in the analysis of a literary work. For Wimsatt and Beardsley, the words on the page were all that mattered; importation of meanings from outside the text was considered irrelevant, and potentially distracting.In another essay, \"The Affective Fallacy\", which served as a kind of sister essay to \"The Intentional Fallacy\" Wimsatt and Beardsley also discounted the reader\\'s personal/emotional reaction to a literary work as a valid means of analyzing a text. This fallacy would later be repudiated by theorists from the reader-response school of literary theory. Ironically, one of the leading theorists from this school, Stanley Fish, was himself trained by New Critics. Fish criticizes Wimsatt and Beardsley in his 1970 essay \"Literature in the Reader\".As summarized by Berys Gaut and Paisley Livingston in their essay \"The Creation of Art\": \"Structuralist and post-structuralists theorists and critics were sharply critical of many aspects of New Criticism, beginning with the emphasis on aesthetic appreciation and the so-called autonomy of art, but they reiterated the attack on biographical criticisms\\' assumption that the artist\\'s activities and experience were a privileged critical topic.\" These authors contend that: \"Anti-intentionalists, such as formalists, hold that the intentions involved in the making of art are irrelevant or peripheral to correctly interpreting art. So details of the act of creating a work, though possibly of interest in themselves, have no bearing on the correct interpretation of the work.\"Gaut and Livingston define the intentionalists as distinct from formalists stating that: \"Intentionalists, unlike formalists, hold that reference to intentions is essential in fixing the correct interpretation of works.\" They quote Richard Wollheim as stating that, \"The task of criticism is the reconstruction of the creative process, where the creative process must in turn be thought of as something not stopping short of, but terminating on, the work of art itself.\"\\n\\n\"Linguistic turn\" and its debate\\nThe end of the 20th century fostered an extensive debate known as the linguistic turn controversy, or the \"innocent eye debate\" in the philosophy of art. This debate discussed the encounter of the work of art as being determined by the relative extent to which the conceptual encounter with the work of art dominates over the perceptual encounter with the work of art.Decisive for the linguistic turn debate in art history and the humanities were the works of yet another tradition, namely the structuralism of Ferdinand de Saussure and the ensuing movement of poststructuralism. In 1981, the artist Mark Tansey created a work of art titled The Innocent Eye as a criticism of the prevailing climate of disagreement in the philosophy of art during the closing decades of the 20th century. Influential theorists include Judith Butler, Luce Irigaray, Julia Kristeva, Michel Foucault and Jacques Derrida. The power of language, more specifically of certain rhetorical tropes, in art history and historical discourse was explored by Hayden White. The fact that language is not a transparent medium of thought had been stressed by a very different form of philosophy of language which originated in the works of Johann Georg Hamann and Wilhelm von Humboldt. Ernst Gombrich and Nelson Goodman in his book Languages of Art: An Approach to a Theory of Symbols came to hold that the conceptual encounter with the work of art predominated exclusively over the perceptual and visual encounter with the work of art during the 1960s and 1970s. He was challenged on the basis of research done by the Nobel prize winning psychologist Roger Sperry who maintained that the human visual encounter was not limited to concepts represented in language alone (the linguistic turn) and that other forms of psychological representations of the work of art were equally defensible and demonstrable. Sperry\\'s view eventually prevailed by the end of the 20th century with aesthetic philosophers such as Nick Zangwill strongly defending a return to moderate aesthetic formalism among other alternatives.\\n\\nClassification disputes\\nDisputes as to whether or not to classify something as a work of art are referred to as classificatory disputes about art. Classificatory disputes in the 20th century have included cubist and impressionist paintings, Duchamp\\'s Fountain, the movies, J. S. G. Boggs\\' superlative imitations of banknotes, conceptual art, and video games. Philosopher David Novitz has argued that disagreement about the definition of art are rarely the heart of the problem. Rather, \"the passionate concerns and interests that humans vest in their social life\" are \"so much a part of all classificatory disputes about art.\" According to Novitz, classificatory disputes are more often disputes about societal values and where society is trying to go than they are about theory proper. For example, when the Daily Mail criticized Hirst\\'s and Emin\\'s work by arguing \"For 1,000 years art has been one of our great civilising forces. Today, pickled sheep and soiled beds threaten to make barbarians of us all\" they are not advancing a definition or theory about art, but questioning the value of Hirst\\'s and Emin\\'s work. In 1998, Arthur Danto, suggested a thought experiment showing that \"the status of an artifact as work of art results from the ideas a culture applies to it, rather than its inherent physical or perceptible qualities. Cultural interpretation (an art theory of some kind) is therefore constitutive of an object\\'s arthood.\"Anti-art is a label for art that intentionally challenges the established parameters and values of art; it is a term associated with Dadaism and attributed to Marcel Duchamp just before World War I, when he was making art from found objects. One of these, Fountain (1917), an ordinary urinal, has achieved considerable prominence and influence on art. Anti-art is a feature of work by Situationist International, the lo-fi Mail art movement, and the Young British Artists, though it is a form still rejected by the Stuckists, who describe themselves as anti-anti-art.Architecture is often included as one of the visual arts; however, like the decorative arts, or advertising, it involves the creation of objects where the practical considerations of use are essential in a way that they usually are not in a painting, for example.\\n\\nValue judgment\\nSomewhat in relation to the above, the word art is also used to apply judgments of value, as in such expressions as \"that meal was a work of art\" (the cook is an artist), or \"the art of deception\" (the highly attained level of skill of the deceiver is praised). It is this use of the word as a measure of high quality and high value that gives the term its flavor of subjectivity. Making judgments of value requires a basis for criticism. At the simplest level, a way to determine whether the impact of the object on the senses meets the criteria to be considered art is whether it is perceived to be attractive or repulsive. Though perception is always colored by experience, and is necessarily subjective, it is commonly understood that what is not somehow aesthetically satisfying cannot be art. However, \"good\" art is not always or even regularly aesthetically appealing to a majority of viewers. In other words, an artist\\'s prime motivation need not be the pursuit of the aesthetic. Also, art often depicts terrible images made for social, moral, or thought-provoking reasons. For example, Francisco Goya\\'s painting depicting the Spanish shootings of 3 May 1808 is a graphic depiction of a firing squad executing several pleading civilians. Yet at the same time, the horrific imagery demonstrates Goya\\'s keen artistic ability in composition and execution and produces fitting social and political outrage. Thus, the debate continues as to what mode of aesthetic satisfaction, if any, is required to define \\'art\\'.The assumption of new values or the rebellion against accepted notions of what is aesthetically superior need not occur concurrently with a complete abandonment of the pursuit of what is aesthetically appealing. Indeed, the reverse is often true, that the revision of what is popularly conceived of as being aesthetically appealing allows for a re-invigoration of aesthetic sensibility, and a new appreciation for the standards of art itself. Countless schools have proposed their own ways to define quality, yet they all seem to agree in at least one point: once their aesthetic choices are accepted, the value of the work of art is determined by its capacity to transcend the limits of its chosen medium to strike some universal chord by the rarity of the skill of the artist or in its accurate reflection in what is termed the zeitgeist. Art is often intended to appeal to and connect with human emotion. It can arouse aesthetic or moral feelings, and can be understood as a way of communicating these feelings. Artists express something so that their audience is aroused to some extent, but they do not have to do so consciously. Art may be considered an exploration of the human condition; that is, what it is to be human. By extension, it has been argued by Emily L. Spratt that the development of artificial intelligence, especially in regard to its uses with images, necessitates a re-evaluation of aesthetic theory in art history today and a reconsideration of the limits of human creativity.\\n\\nArt and law\\nAn essential legal issue are art forgeries, plagiarism, replicas and works that are strongly based on other works of art.\\nIntellectual property law plays a significant role in the art world.Copyright protection is granted to artists for their original works, providing them with exclusive rights to reproduce, distribute, and display their creations. This safeguard empowers artists to govern the usage of their work and safeguard against unauthorized copying or infringement. The trade in works of art or the export from a country may be subject to legal regulations. Internationally there are also extensive efforts to protect the works of art created. The UN, UNESCO and Blue Shield International try to ensure effective protection at the national level and to intervene directly in the event of armed conflicts or disasters. This can particularly affect museums, archives, art collections and excavation sites. This should also secure the economic basis of a country, especially because works of art are often of tourist importance. The founding president of Blue Shield International, Karl von Habsburg, explained an additional connection between the destruction of cultural property and the cause of flight during a mission in Lebanon in April 2019: \"Cultural goods are part of the identity of the people who live in a certain place. If you destroy their culture, you also destroy their identity. Many people are uprooted, often no longer have any prospects and as a result flee from their homeland.\"  In order to preserve the diversity of cultural identity, UNESCO protects the living human treasure through the Convention for the Safeguarding of the Intangible Cultural Heritage.\\n\\nSee also\\nReferences\\nWorks cited\\nBibliography\\nOscar Wilde, Intentions, 1891\\nKatharine Everett Gilbert and Helmut Kuhn, A History of Esthetics. Edition 2, revised. Indiana: Indiana University Press, 1953.\\nStephen Davies, Definitions of Art, 1991\\nNina Felshin, ed. But is it Art?, 1995\\nCatherine de Zegher (ed.). Inside the Visible. MIT Press, 1996\\nEvelyn Hatcher, ed. Art as Culture: An Introduction to the Anthropology of Art, 1999\\nNoel Carroll, Theories of Art Today, 2000\\nJohn Whitehead. Grasping for the Wind, 2001\\nMichael Ann Holly and Keith Moxey (eds.) Art History Aesthetics Visual Studies. New Haven: Yale University Press, 2002. ISBN 0300097891\\nShiner, Larry. The Invention of Art: A Cultural History. Chicago: University of Chicago Press, 2003. ISBN 978-0-226-75342-3\\nArthur Danto, The Abuse of Beauty: Aesthetics and the Concept of Art. 2003\\nDana Arnold and Margaret Iversen, eds. Art and Thought. London: Blackwell, 2003. ISBN 0631227156\\nJean Robertson and Craig McDaniel, Themes of Contemporary Art, Visual Art after 1980, 2005\\n\\nFurther reading\\nAntony Briant and Griselda Pollock, eds. Digital and Other Virtualities: Renegotiating the image. London and NY: I.B. Tauris, 2010. ISBN 978-1441676313\\nAugros, Robert M., Stanciu, George N. The New Story of Science: mind and the universe, Lake Bluff, Ill.: Regnery Gateway, 1984. ISBN 0-89526-833-7 (this book has significant material on art and science)\\nBenedetto Croce. Aesthetic as Science of Expression and General Linguistic, 2002\\nBotar, Oliver A.I. Technical Detours: The Early Moholy-Nagy Reconsidered. Art Gallery of The Graduate Center, The City University of New York and The Salgo Trust for Education, 2006. ISBN 978-1599713571\\nBurguete, Maria, and Lam, Lui, eds. (2011). Arts: A Science Matter. World Scientific: Singapore. ISBN 978-981-4324-93-9\\nCarol Armstrong and Catherine de Zegher, eds. Women Artists at the Millennium. Massachusetts: October Books/The MIT Press, 2006. ISBN 026201226X\\nColvin, Sidney (1911). \"Art\" . In Chisholm, Hugh (ed.). Encyclopædia Britannica. Vol. 2 (11th ed.). Cambridge University Press. pp. 657–660.\\nCarl Jung, Man and His Symbols. London: Pan Books, 1978. ISBN 0330253212\\nE.H. Gombrich, The Story of Art. London: Phaidon Press, 1995. ISBN 978-0714832470\\nFlorian Dombois, Ute Meta Bauer, Claudia Mareis and Michael Schwab, eds. Intellectual Birdhouse. Artistic Practice as Research. London: Koening Books, 2012. ISBN 978-3863351182\\nKristine Stiles and Peter Selz, eds. Theories and Documents of Contemporary Art. Berkeley: University of California Press, 1986\\nKleiner, Gardner, Mamiya and Tansey. Art Through the Ages, Twelfth Edition (2 volumes) Wadsworth, 2004. ISBN 0-534-64095-8 (vol 1) and ISBN 0-534-64091-5 (vol 2)\\nRichard Wollheim, Art and its Objects: An introduction to aesthetics. New York: Harper & Row, 1968. OCLC 1077405\\nWill Gompertz. What Are You Looking At?: 150 Years of Modern Art in the Blink of an Eye. New York: Viking, 2012. ISBN 978-0670920495\\nWładysław Tatarkiewicz, A History of Six Ideas: an Essay in Aesthetics, translated from the Polish by Christopher Kasparek, The Hague, Martinus Nijhoff, 1980\\n\\nExternal links\\n\\nArt and Play from the Dictionary of the History of ideas\\nIn-depth directory of art\\nArt and Artist Files in the Smithsonian Libraries Collection (2005) Smithsonian Digital Libraries\\nVisual Arts Data Service (VADS) – online collections from UK museums, galleries, universities\\nRevolutionArt – Art magazines with worldwide exhibitions, callings and competitions\\nAdajian, Thomas. \"The Definition of Art\". In Zalta, Edward N. (ed.). Stanford Encyclopedia of Philosophy.\\nArt at Curlie'"
      ]
     },
     "execution_count": 16,
     "metadata": {},
     "output_type": "execute_result"
    }
   ],
   "source": [
    "page.text"
   ]
  },
  {
   "cell_type": "markdown",
   "id": "955aabfa-ce45-43c1-aba6-0f50986fe223",
   "metadata": {},
   "source": [
    "# 1 wiki"
   ]
  },
  {
   "cell_type": "code",
   "execution_count": 17,
   "id": "cfdf8563-ab6b-4017-b138-a80ff5091731",
   "metadata": {},
   "outputs": [],
   "source": [
    "wiki = wikipediaapi.Wikipedia(user_agent=user_agent,\n",
    "                                 headers={\"Authorization\": f\"Bearer {secrets['Access token']}\"})"
   ]
  },
  {
   "cell_type": "code",
   "execution_count": 18,
   "id": "0fbd9b39-0116-4eab-b18c-58257b030cc7",
   "metadata": {},
   "outputs": [
    {
     "data": {
      "text/plain": [
       "Art (id: ??, ns: 0)"
      ]
     },
     "execution_count": 18,
     "metadata": {},
     "output_type": "execute_result"
    }
   ],
   "source": [
    "page=wiki.page(\"Art\")\n",
    "page"
   ]
  },
  {
   "cell_type": "code",
   "execution_count": 19,
   "id": "1d4f5e76-af07-418a-b785-0c7f3a5ad906",
   "metadata": {},
   "outputs": [
    {
     "data": {
      "text/plain": [
       "'Art is a diverse range of human activity, and its resulting product, that involves creative or imaginative talent generally expressive of technical proficiency, beauty, emotional power, or conceptual ideas.There is no generally agreed definition of what constitutes art, and its interpretation has varied greatly throughout history and across cultures. In the Western tradition, the three classical branches of visual art are painting, sculpture, and architecture. Theatre, dance, and other performing arts, as well as literature, music, film and other media such as interactive media, are included in a broader definition of the arts. Until the 17th century, art referred to any skill or mastery and was not differentiated from crafts or sciences. In modern usage after the 17th century, where aesthetic considerations are paramount, the fine arts are separated and distinguished from acquired skills in general, such as the decorative or applied arts.\\nThe nature of art and related concepts, such as creativity and interpretation, are explored in a branch of philosophy known as aesthetics. The resulting artworks are studied in the professional fields of art criticism and the history of art.\\n\\nOverview\\nIn the perspective of the history of art, artistic works have existed for almost as long as humankind: from early prehistoric art to contemporary art; however, some theorists think that the typical concept of \"artistic works\" does not fit well outside modern Western societies. One early sense of the definition of art is closely related to the older Latin meaning, which roughly translates to \"skill\" or \"craft\", as associated with words such as \"artisan\". English words derived from this meaning include artifact, artificial, artifice, medical arts, and military arts. However, there are many other colloquial uses of the word, all with some relation to its etymology.\\n\\nOver time, philosophers like Plato, Aristotle, Socrates and Immanuel Kant, among others, questioned the meaning of art. Several dialogues in Plato tackle questions about art: Socrates says that poetry is inspired by the muses, and is not rational. He speaks approvingly of this, and other forms of divine madness (drunkenness, eroticism, and dreaming) in the Phaedrus (265a–c), and yet in the Republic wants to outlaw Homer\\'s great poetic art, and laughter as well. In Ion, Socrates gives no hint of the disapproval of Homer that he expresses in the Republic. The dialogue Ion suggests that Homer\\'s Iliad functioned in the ancient Greek world as the Bible does today in the modern Christian world: as divinely inspired literary art that can provide moral guidance, if only it can be properly interpreted.With regards to the literary art and the musical arts, Aristotle considered epic poetry, tragedy, comedy, Dithyrambic poetry and music to be mimetic or imitative art, each varying in imitation by medium, object, and manner. For example, music imitates with the media of rhythm and harmony, whereas dance imitates with rhythm alone, and poetry with language. The forms also differ in their object of imitation. Comedy, for instance, is a dramatic imitation of men worse than average; whereas tragedy imitates men slightly better than average. Lastly, the forms differ in their manner of imitation—through narrative or character, through change or no change, and through drama or no drama. Aristotle believed that imitation is natural to mankind and constitutes one of mankind\\'s advantages over animals.The more recent and specific sense of the word art as an abbreviation for creative art or fine art emerged in the early 17th century. Fine art refers to a skill used to express the artist\\'s creativity, or to engage the audience\\'s aesthetic sensibilities, or to draw the audience towards consideration of more refined or finer works of art.\\nWithin this latter sense, the word art may refer to several things: (i) a study of a creative skill, (ii) a process of using the creative skill, (iii) a product of the creative skill, or (iv) the audience\\'s experience with the creative skill. The creative arts (art as discipline) are a collection of disciplines which produce artworks (art as objects) that are compelled by a personal drive (art as activity) and convey a message, mood, or symbolism for the perceiver to interpret (art as experience). Art is something that stimulates an individual\\'s thoughts, emotions, beliefs, or ideas through the senses. Works of art can be explicitly made for this purpose or interpreted on the basis of images or objects. For some scholars, such as Kant, the sciences and the arts could be distinguished by taking science as representing the domain of knowledge and the arts as representing the domain of the freedom of artistic expression.\\nOften, if the skill is being used in a common or practical way, people will consider it a craft instead of art. Likewise, if the skill is being used in a commercial or industrial way, it may be considered commercial art instead of fine art. On the other hand, crafts and design are sometimes considered applied art. Some art followers have argued that the difference between fine art and applied art has more to do with value judgments made about the art than any clear definitional difference. However, even fine art often has goals beyond pure creativity and self-expression. The purpose of works of art may be to communicate ideas, such as in politically, spiritually, or philosophically motivated art; to create a sense of beauty (see aesthetics); to explore the nature of perception; for pleasure; or to generate strong emotions. The purpose may also be seemingly nonexistent.\\nThe nature of art has been described by philosopher Richard Wollheim as \"one of the most elusive of the traditional problems of human culture\". Art has been defined as a vehicle for the expression or communication of emotions and ideas, a means for exploring and appreciating formal elements for their own sake, and as mimesis or representation. Art as mimesis has deep roots in the philosophy of Aristotle. Leo Tolstoy identified art as a use of indirect means to communicate from one person to another. Benedetto Croce and R. G. Collingwood advanced the idealist view that art expresses emotions, and that the work of art therefore essentially exists in the mind of the creator. The theory of art as form has its roots in the philosophy of Kant, and was developed in the early 20th century by Roger Fry and Clive Bell. More recently, thinkers influenced by Martin Heidegger have interpreted art as the means by which a community develops for itself a medium for self-expression and interpretation. George Dickie has offered an institutional theory of art that defines a work of art as any artifact upon which a qualified person or persons acting on behalf of the social institution commonly referred to as \"the art world\" has conferred \"the status of candidate for appreciation\". Larry Shiner has described fine art as \"not an essence or a fate but something we have made. Art as we have generally understood it is a European invention barely two hundred years old.\"Art may be characterized in terms of mimesis (its representation of reality), narrative (storytelling), expression, communication of emotion, or other qualities. During the Romantic period, art came to be seen as \"a special faculty of the human mind to be classified with religion and science\".\\n\\nHistory\\nA shell engraved by Homo erectus was determined to be between 430,000 and 540,000 years old. A set of eight 130,000 years old white-tailed eagle talons bear cut marks and abrasion that indicate manipulation by neanderthals, possibly for using it as jewelry. A series of tiny, drilled snail shells about 75,000 years old—were discovered in a South African cave. Containers that may have been used to hold paints have been found dating as far back as 100,000 years.The oldest piece of art found in Europe is the Riesenhirschknochen der Einhornhöhle, dating back 51,000 years and made by Neanderthals.\\nSculptures, cave paintings, rock paintings and petroglyphs from the Upper Paleolithic dating to roughly 40,000 years ago have been found, but the precise meaning of such art is often disputed because so little is known about the cultures that produced them.\\nThe first undisputed sculptures and similar art pieces, like the Venus of Hohle Fels, are the numerous objects found at the Caves and Ice Age Art in the Swabian Jura UNESCO World Heritage Site, where the oldest non-stationary works of human art yet discovered were found, in the form of carved animal and humanoid figurines, in addition to the oldest musical instruments unearthed so far, with the artifacts dating between 43,000 and 35,000 BC, so being the first centre of human art.\\nMany great traditions in art have a foundation in the art of one of the great ancient civilizations: Ancient Egypt, Mesopotamia, Persia, India, China, Ancient Greece, Rome, as well as Inca, Maya, and Olmec. Each of these centers of early civilization developed a unique and characteristic style in its art. Because of the size and duration of these civilizations, more of their art works have survived and more of their influence has been transmitted to other cultures and later times. Some also have provided the first records of how artists worked. For example, this period of Greek art saw a veneration of the human physical form and the development of equivalent skills to show musculature, poise, beauty, and anatomically correct proportions.In Byzantine and Medieval art of the Western Middle Ages, much art focused on the expression of subjects about biblical and religious culture, and used styles that showed the higher glory of a heavenly world, such as the use of gold in the background of paintings, or glass in mosaics or windows, which also presented figures in idealized, patterned (flat) forms. Nevertheless, a classical realist tradition persisted in small Byzantine works, and realism steadily grew in the art of Catholic Europe.Renaissance art had a greatly increased emphasis on the realistic depiction of the material world, and the place of humans in it, reflected in the corporeality of the human body, and development of a systematic method of graphical perspective to depict recession in a three-dimensional picture space.\\nIn the east, Islamic art\\'s rejection of iconography led to emphasis on geometric patterns, calligraphy, and architecture. Further east, religion dominated artistic styles and forms too. India and Tibet saw emphasis on painted sculptures and dance, while religious painting borrowed many conventions from sculpture and tended to bright contrasting colors with emphasis on outlines. China saw the flourishing of many art forms: jade carving, bronzework, pottery (including the stunning terracotta army of Emperor Qin), poetry, calligraphy, music, painting, drama, fiction, etc. Chinese styles vary greatly from era to era and each one is traditionally named after the ruling dynasty. So, for example, Tang dynasty paintings are monochromatic and sparse, emphasizing idealized landscapes, but Ming dynasty paintings are busy and colorful, and focus on telling stories via setting and composition. Japan names its styles after imperial dynasties too, and also saw much interplay between the styles of calligraphy and painting. Woodblock printing became important in Japan after the 17th century.\\nThe western Age of Enlightenment in the 18th century saw artistic depictions of physical and rational certainties of the clockwork universe, as well as politically revolutionary visions of a post-monarchist world, such as Blake\\'s portrayal of Newton as a divine geometer, or David\\'s propagandistic paintings. This led to Romantic rejections of this in favor of pictures of the emotional side and individuality of humans, exemplified in the novels of Goethe. The late 19th century then saw a host of artistic movements, such as academic art, Symbolism, impressionism and fauvism among others.The history of 20th-century art is a narrative of endless possibilities and the search for new standards, each being torn down in succession by the next. Thus the parameters of Impressionism, Expressionism, Fauvism, Cubism, Dadaism, Surrealism, etc. cannot be maintained very much beyond the time of their invention. Increasing global interaction during this time saw an equivalent influence of other cultures into Western art. Thus, Japanese woodblock prints (themselves influenced by Western Renaissance draftsmanship) had an immense influence on impressionism and subsequent development. Later, African sculptures were taken up by Picasso and to some extent by Matisse. Similarly, in the 19th and 20th centuries the West has had huge impacts on Eastern art with originally western ideas like Communism and Post-Modernism exerting a powerful influence.Modernism, the idealistic search for truth, gave way in the latter half of the 20th century to a realization of its unattainability. Theodor W. Adorno said in 1970, \"It is now taken for granted that nothing which concerns art can be taken for granted any more: neither art itself, nor art in relationship to the whole, nor even the right of art to exist.\" Relativism was accepted as an unavoidable truth, which led to the period of contemporary art and postmodern criticism, where cultures of the world and of history are seen as changing forms, which can be appreciated and drawn from only with skepticism and irony. Furthermore, the separation of cultures is increasingly blurred and some argue it is now more appropriate to think in terms of a global culture, rather than of regional ones.In The Origin of the Work of Art, Martin Heidegger, a German philosopher and seminal thinker, describes the essence of art in terms of the concepts of being and truth. He argues that art is not only a way of expressing the element of truth in a culture, but the means of creating it and providing a springboard from which \"that which is\" can be revealed. Works of art are not merely representations of the way things are, but actually produce a community\\'s shared understanding. Each time a new artwork is added to any culture, the meaning of what it is to exist is inherently changed.\\nHistorically, art and artistic skills and ideas have often been spread through trade. An example of this is the Silk Road, where Hellenistic, Iranian, Indian and Chinese influences could mix. Greco Buddhist art is one of the most vivid examples of this interaction. The meeting of different cultures and worldviews also influenced artistic creation. An example of this is the multicultural port metropolis of Trieste at the beginning of the 20th century, where James Joyce met writers from Central Europe and the artistic development of New York City as a cultural melting pot.\\n\\nForms, genres, media, and styles\\nThe creative arts are often divided into more specific categories, typically along perceptually distinguishable categories such as media, genre, styles, and form. Art form refers to the elements of art that are independent of its interpretation or significance. It covers the methods adopted by the artist and the physical composition of the artwork, primarily non-semantic aspects of the work (i.e., figurae), such as color, contour, dimension, medium, melody, space, texture, and value. Form may also include Design principles, such as arrangement, balance, contrast, emphasis, harmony, proportion, proximity, and rhythm.In general there are three schools of philosophy regarding art, focusing respectively on form, content, and context. Extreme Formalism is the view that all aesthetic properties of art are formal (that is, part of the art form). Philosophers almost universally reject this view and hold that the properties and aesthetics of art extend beyond materials, techniques, and form. Unfortunately, there is little consensus on terminology for these informal properties. Some authors refer to subject matter and content—i.e., denotations and connotations—while others prefer terms like meaning and significance.Extreme Intentionalism holds that authorial intent plays a decisive role in the meaning of a work of art, conveying the content or essential main idea, while all other interpretations can be discarded. It defines the subject as the persons or idea represented, and the content as the artist\\'s experience of that subject. For example, the composition of Napoleon I on his Imperial Throne is partly borrowed from the Statue of Zeus at Olympia. As evidenced by the title, the subject is Napoleon, and the content is Ingres\\'s representation of Napoleon as \"Emperor-God beyond time and space\". Similarly to extreme formalism, philosophers typically reject extreme intentionalism, because art may have multiple ambiguous meanings and authorial intent may be unknowable and thus irrelevant. Its restrictive interpretation is \"socially unhealthy, philosophically unreal, and politically unwise\".Finally, the developing theory of post-structuralism studies art\\'s significance in a cultural context, such as the ideas, emotions, and reactions prompted by a work. The cultural context often reduces to the artist\\'s techniques and intentions, in which case analysis proceeds along lines similar to formalism and intentionalism. However, in other cases historical and material conditions may predominate, such as religious and philosophical convictions, sociopolitical and economic structures, or even climate and geography. Art criticism continues to grow and develop alongside art.\\n\\nSkill and craft\\nArt can connote a sense of trained ability or mastery of a medium. Art can also refer to the developed and efficient use of a language to convey meaning with immediacy or depth. Art can be defined as an act of expressing feelings, thoughts, and observations.There is an understanding that is reached with the material as a result of handling it, which facilitates one\\'s thought processes.\\nA common view is that the epithet art, particular in its elevated sense, requires a certain level of creative expertise by the artist, whether this be a demonstration of technical ability, an originality in stylistic approach, or a combination of these two. Traditionally skill of execution was viewed as a quality inseparable from art and thus necessary for its success; for Leonardo da Vinci, art, neither more nor less than his other endeavors, was a manifestation of skill. Rembrandt\\'s work, now praised for its ephemeral virtues, was most admired by his contemporaries for its virtuosity. At the turn of the 20th century, the adroit performances of John Singer Sargent were alternately admired and viewed with skepticism for their manual fluency, yet at nearly the same time the artist who would become the era\\'s most recognized and peripatetic iconoclast, Pablo Picasso, was completing a traditional academic training at which he excelled.\\nA common contemporary criticism of some modern art occurs along the lines of objecting to the apparent lack of skill or ability required in the production of the artistic object. In conceptual art, Marcel Duchamp\\'s Fountain is among the first examples of pieces wherein the artist used found objects (\"ready-made\") and exercised no traditionally recognised set of skills. Tracey Emin\\'s My Bed, or Damien Hirst\\'s The Physical Impossibility of Death in the Mind of Someone Living follow this example and also manipulate the mass media. Emin slept (and engaged in other activities) in her bed before placing the result in a gallery as work of art. Hirst came up with the conceptual design for the artwork but has left most of the eventual creation of many works to employed artisans. Hirst\\'s celebrity is founded entirely on his ability to produce shocking concepts. The actual production in many conceptual and contemporary works of art is a matter of assembly of found objects. However, there are many modernist and contemporary artists who continue to excel in the skills of drawing and painting and in creating hands-on works of art.\\n\\nPurpose\\nArt has had a great number of different functions throughout its history, making its purpose difficult to abstract or quantify to any single concept. This does not imply that the purpose of art is \"vague\", but that it has had many unique, different reasons for being created. Some of these functions of art are provided in the following outline. The different purposes of art may be grouped according to those that are non-motivated, and those that are motivated (Lévi-Strauss).\\n\\nNon-motivated functions\\nThe non-motivated purposes of art are those that are integral to being human, transcend the individual, or do not fulfill a specific external purpose. In this sense, Art, as creativity, is something humans must do by their very nature (i.e., no other species creates art), and is therefore beyond utility.\\nBasic human instinct for harmony, balance, rhythm. Art at this level is not an action or an object, but an internal appreciation of balance and harmony (beauty), and therefore an aspect of being human beyond utility.Imitation, then, is one instinct of our nature. Next, there is the instinct for \\'harmony\\' and rhythm, meters being manifestly sections of rhythm. Persons, therefore, starting with this natural gift developed by degrees their special aptitudes, till their rude improvisations gave birth to Poetry. – Aristotle\\nExperience of the mysterious. Art provides a way to experience one\\'s self in relation to the universe. This experience may often come unmotivated, as one appreciates art, music or poetry.The most beautiful thing we can experience is the mysterious. It is the source of all true art and science. – Albert Einstein\\nExpression of the imagination. Art provides a means to express the imagination in non-grammatic ways that are not tied to the formality of spoken or written language. Unlike words, which come in sequences and each of which have a definite meaning, art provides a range of forms, symbols and ideas with meanings that are malleable.Jupiter\\'s eagle [as an example of art] is not, like logical (aesthetic) attributes of an object, the concept of the sublimity and majesty of creation, but rather something else—something that gives the imagination an incentive to spread its flight over a whole host of kindred representations that provoke more thought than admits of expression in a concept determined by words. They furnish an aesthetic idea, which serves the above rational idea as a substitute for logical presentation, but with the proper function, however, of animating the mind by opening out for it a prospect into a field of kindred representations stretching beyond its ken. – Immanuel Kant\\nRitualistic and symbolic functions. In many cultures, art is used in rituals, performances and dances as a decoration or symbol. While these often have no specific utilitarian (motivated) purpose, anthropologists know that they often serve a purpose at the level of meaning within a particular culture. This meaning is not furnished by any one individual, but is often the result of many generations of change, and of a cosmological relationship within the culture.Most scholars who deal with rock paintings or objects recovered from prehistoric contexts that cannot be explained in utilitarian terms and are thus categorized as decorative, ritual or symbolic, are aware of the trap posed by the term \\'art\\'. – Silva Tomaskova\\n\\nMotivated functions\\nMotivated purposes of art refer to intentional, conscious actions on the part of the artists or creator. These may be to bring about political change, to comment on an aspect of society, to convey a specific emotion or mood, to address personal psychology, to illustrate another discipline, to (with commercial arts) sell a product, or used as a form of communication.\\nCommunication. Art, at its simplest, is a form of communication. As most forms of communication have an intent or goal directed toward another individual, this is a motivated purpose. Illustrative arts, such as scientific illustration, are a form of art as communication. Maps are another example. However, the content need not be scientific. Emotions, moods and feelings are also communicated through art.[Art is a set of] artefacts or images with symbolic meanings as a means of communication. – Steve Mithen\\nArt as entertainment. Art may seek to bring about a particular emotion or mood, for the purpose of relaxing or entertaining the viewer. This is often the function of the art industries of motion pictures and video games.\\nThe Avant-Garde. Art for political change. One of the defining functions of early 20th-century art has been to use visual images to bring about political change. Art movements that had this goal—Dadaism, Surrealism, Russian constructivism, and Abstract Expressionism, among others—are collectively referred to as the avant-garde arts.By contrast, the realistic attitude, inspired by positivism, from Saint Thomas Aquinas to Anatole France, clearly seems to me to be hostile to any intellectual or moral advancement. I loathe it, for it is made up of mediocrity, hate, and dull conceit. It is this attitude which today gives birth to these ridiculous books, these insulting plays. It constantly feeds on and derives strength from the newspapers and stultifies both science and art by assiduously flattering the lowest of tastes; clarity bordering on stupidity, a dog\\'s life. – André Breton (Surrealism)\\nArt as a \"free zone\", removed from the action of the social censure. Unlike the avant-garde movements, which wanted to erase cultural differences in order to produce new universal values, contemporary art has enhanced its tolerance towards cultural differences as well as its critical and liberating functions (social inquiry, activism, subversion, deconstruction, etc.), becoming a more open place for research and experimentation.\\nArt for social inquiry, subversion or anarchy. While similar to art for political change, subversive or deconstructivist art may seek to question aspects of society without any specific political goal. In this case, the function of art may be used to criticize some aspect of society. Graffiti art and other types of street art are graphics and images that are spray-painted or stencilled on publicly viewable walls, buildings, buses, trains, and bridges, usually without permission. Certain art forms, such as graffiti, may also be illegal when they break laws (in this case vandalism).\\nArt for social causes. Art can be used to raise awareness for a large variety of causes. A number of art activities were aimed at raising awareness of autism, cancer, human trafficking, and a variety of other topics, such as ocean conservation, human rights in Darfur, murdered and missing Aboriginal women, elder abuse, and pollution. Trashion, using trash to make fashion, practiced by artists such as Marina DeBris is one example of using art to raise awareness about pollution.\\nArt for psychological and healing purposes. Art is also used by art therapists, psychotherapists and clinical psychologists as art therapy. The Diagnostic Drawing Series, for example, is used to determine the personality and emotional functioning of a patient. The end product is not the principal goal in this case, but rather a process of healing, through creative acts, is sought. The resultant piece of artwork may also offer insight into the troubles experienced by the subject and may suggest suitable approaches to be used in more conventional forms of psychiatric therapy.\\nArt for propaganda, or commercialism. Art is often used as a form of propaganda, and thus can be used to subtly influence popular conceptions or mood. In a similar way, art that tries to sell a product also influences mood and emotion. In both cases, the purpose of art here is to subtly manipulate the viewer into a particular emotional or psychological response toward a particular idea or object.\\nArt as a fitness indicator. It has been argued that the ability of the human brain by far exceeds what was needed for survival in the ancestral environment. One evolutionary psychology explanation for this is that the human brain and associated traits (such as artistic ability and creativity) are the human equivalent of the peacock\\'s tail. The purpose of the male peacock\\'s extravagant tail has been argued to be to attract females (see also Fisherian runaway and handicap principle). According to this theory superior execution of art was evolutionarily important because it attracted mates.The functions of art described above are not mutually exclusive, as many of them may overlap. For example, art for the purpose of entertainment may also seek to sell a product, i.e. the movie or video game.\\n\\nSteps\\nArt can be divided into any number of steps one can make an argument for. This section divides the creative process into broad three steps, but there is no consensus on an exact number.\\n\\nPreparation\\nIn the first step, the artist envisions the art in their mind. By imagining what their art would look like, the artist begins the process of bringing the art into existence. Preparation of art may involve approaching and researching the subject matter. Artistic inspiration is one of the main drivers of art, and may be considered to stem from instinct, impressions, and feelings.\\n\\nCreation\\nIn the second step, the artist executes the creation of their work. The creation of a piece can be affected by factors such as the artist\\'s mood, surroundings, and mental state. For example, The Black Paintings by Francisco de Goya, created in the elder years of his life, are thought to be so bleak because he was in isolation and because of his experience with war. He painted them directly on the walls of his apartment in Spain, and most likely never discussed them with anyone. The Beatles stated drugs such as LSD and cannabis influenced some of their greatest hits, such as Revolver. Trial and error are considered an integral part of the creation process.\\n\\nAppreciation\\nThe last step is art appreciation, which has the sub-topic of critique. In one study, over half of visual arts students agreed that reflection is an essential step of the art process. According to education journals, the reflection of art is considered an essential part of the experience. However an important aspect of art is that others may view and appreciate it as well. While many focus on whether those viewing/listening/etc. believe the art to be good/successful or not, art has profound value beyond its commercial success as a provider of information and health in society. Art enjoyment can bring about a wide spectrum of emotion due to beauty. Some art is meant to be practical, with its analysis studious, meant to stimulate discourse.\\n\\nPublic access\\nSince ancient times, much of the finest art has represented a deliberate display of wealth or power, often achieved by using massive scale and expensive materials. Much art has been commissioned by political rulers or religious establishments, with more modest versions only available to the most wealthy in society.Nevertheless, there have been many periods where art of very high quality was available, in terms of ownership, across large parts of society, above all in cheap media such as pottery, which persists in the ground, and perishable media such as textiles and wood. In many different cultures, the ceramics of indigenous peoples of the Americas are found in such a wide range of graves that they were clearly not restricted to a social elite, though other forms of art may have been. Reproductive methods such as moulds made mass-production easier, and were used to bring high-quality Ancient Roman pottery and Greek Tanagra figurines to a very wide market. Cylinder seals were both artistic and practical, and very widely used by what can be loosely called the middle class in the Ancient Near East. Once coins were widely used, these also became an art form that reached the widest range of society.Another important innovation came in the 15th century in Europe, when printmaking began with small woodcuts, mostly religious, that were often very small and hand-colored, and affordable even by peasants who glued them to the walls of their homes. Printed books were initially very expensive, but fell steadily in price until by the 19th century even the poorest could afford some with printed illustrations. Popular prints of many different sorts have decorated homes and other places for centuries.\\nIn 1661, the city of Basel, in Switzerland, opened the first public museum of art in the world, the Kunstmuseum Basel. Today, its collection is distinguished by an impressively wide historic span, from the early 15th century up to the immediate present. Its various areas of emphasis give it international standing as one of the most significant museums of its kind. These encompass: paintings and drawings by artists active in the Upper Rhine region between 1400 and 1600, and on the art of the 19th to 21st centuries.Public buildings and monuments, secular and religious, by their nature normally address the whole of society, and visitors as viewers, and display to the general public has long been an important factor in their design. Egyptian temples are typical in that the most largest and most lavish decoration was placed on the parts that could be seen by the general public, rather than the areas seen only by the priests. Many areas of royal palaces, castles and the houses of the social elite were often generally accessible, and large parts of the art collections of such people could often be seen, either by anybody, or by those able to pay a small price, or those wearing the correct clothes, regardless of who they were, as at the Palace of Versailles, where the appropriate extra accessories (silver shoe buckles and a sword) could be hired from shops outside.Special arrangements were made to allow the public to see many royal or private collections placed in galleries, as with the Orleans Collection mostly housed in a wing of the Palais Royal in Paris, which could be visited for most of the 18th century. In Italy the art tourism of the Grand Tour became a major industry from the Renaissance onwards, and governments and cities made efforts to make their key works accessible. The British Royal Collection remains distinct, but large donations such as the Old Royal Library were made from it to the British Museum, established in 1753. The Uffizi in Florence opened entirely as a gallery in 1765, though this function had been gradually taking the building over from the original civil servants\\' offices for a long time before. The building now occupied by the Prado in Madrid was built before the French Revolution for the public display of parts of the royal art collection, and similar royal galleries open to the public existed in Vienna, Munich and other capitals. The opening of the Musée du Louvre during the French Revolution (in 1793) as a public museum for much of the former French royal collection certainly marked an important stage in the development of public access to art, transferring ownership to a republican state, but was a continuation of trends already well established.Most modern public museums and art education programs for children in schools can be traced back to this impulse to have art available to everyone. However, museums do not only provide availability to art, but do also influence the way art is being perceived by the audience, as studies found. Thus, the museum itself is not only a blunt stage for the presentation of art, but plays an active and vital role in the overall perception of art in modern society.\\nMuseums in the United States tend to be gifts from the very rich to the masses. (The Metropolitan Museum of Art in New York City, for example, was created by John Taylor Johnston, a railroad executive whose personal art collection seeded the museum.) But despite all this, at least one of the important functions of art in the 21st century remains as a marker of wealth and social status.There have been attempts by artists to create art that can not be bought by the wealthy as a status object. One of the prime original motivators of much of the art of the late 1960s and 1970s was to create art that could not be bought and sold. It is \"necessary to present something more than mere objects\" said the major post war German artist Joseph Beuys. This time period saw the rise of such things as performance art, video art, and conceptual art. The idea was that if the artwork was a performance that would leave nothing behind, or was an idea, it could not be bought and sold. \"Democratic precepts revolving around the idea that a work of art is a commodity impelled the aesthetic innovation which germinated in the mid-1960s and was reaped throughout the 1970s. Artists broadly identified under the heading of Conceptual art ... substituting performance and publishing activities for engagement with both the material and materialistic concerns of painted or sculptural form ... [have] endeavored to undermine the art object qua object.\"\\nIn the decades since, these ideas have been somewhat lost as the art market has learned to sell limited edition DVDs of video works, invitations to exclusive performance art pieces, and the objects left over from conceptual pieces. Many of these performances create works that are only understood by the elite who have been educated as to why an idea or video or piece of apparent garbage may be considered art. The marker of status becomes understanding the work instead of necessarily owning it, and the artwork remains an upper-class activity. \"With the widespread use of DVD recording technology in the early 2000s, artists, and the gallery system that derives its profits from the sale of artworks, gained an important means of controlling the sale of video and computer artworks in limited editions to collectors.\"\\n\\nControversies\\nArt has long been controversial, that is to say disliked by some viewers, for a wide variety of reasons, though most pre-modern controversies are dimly recorded, or completely lost to a modern view. Iconoclasm is the destruction of art that is disliked for a variety of reasons, including religious ones. Aniconism is a general dislike of either all figurative images, or often just religious ones, and has been a thread in many major religions. It has been a crucial factor in the history of Islamic art, where depictions of Muhammad remain especially controversial. Much art has been disliked purely because it depicted or otherwise stood for unpopular rulers, parties or other groups. Artistic conventions have often been conservative and taken very seriously by art critics, though often much less so by a wider public. The iconographic content of art could cause controversy, as with late medieval depictions of the new motif of the Swoon of the Virgin in scenes of the Crucifixion of Jesus. The Last Judgment by Michelangelo was controversial for various reasons, including breaches of decorum through nudity and the Apollo-like pose of Christ.The content of much formal art through history was dictated by the patron or commissioner rather than just the artist, but with the advent of Romanticism, and economic changes in the production of art, the artists\\' vision became the usual determinant of the content of his art, increasing the incidence of controversies, though often reducing their significance. Strong incentives for perceived originality and publicity also encouraged artists to court controversy. Théodore Géricault\\'s Raft of the Medusa (c.\\u20091820), was in part a political commentary on a recent event. Édouard Manet\\'s Le Déjeuner sur l\\'Herbe (1863), was considered scandalous not because of the nude woman, but because she is seated next to men fully dressed in the clothing of the time, rather than in robes of the antique world. John Singer Sargent\\'s Madame Pierre Gautreau (Madam X) (1884), caused a controversy over the reddish pink used to color the woman\\'s ear lobe, considered far too suggestive and supposedly ruining the high-society model\\'s reputation.\\nThe gradual abandonment of naturalism and the depiction of realistic representations of the visual appearance of subjects in the 19th and 20th centuries led to a rolling controversy lasting for over a century.\\n\\nIn the 20th century, Pablo Picasso\\'s Guernica (1937) used arresting cubist techniques and stark monochromatic oils, to depict the harrowing consequences of a contemporary bombing of a small, ancient Basque town. Leon Golub\\'s Interrogation III (1981), depicts a female nude, hooded detainee strapped to a chair, her legs open to reveal her sexual organs, surrounded by two tormentors dressed in everyday clothing. Andres Serrano\\'s Piss Christ (1989) is a photograph of a crucifix, sacred to the Christian religion and representing Christ\\'s sacrifice and final suffering, submerged in a glass of the artist\\'s own urine. The resulting uproar led to comments in the United States Senate about public funding of the arts.\\n\\nTheory\\nBefore Modernism, aesthetics in Western art was greatly concerned with achieving the appropriate balance between different aspects of realism or truth to nature and the ideal; ideas as to what the appropriate balance is have shifted to and fro over the centuries. This concern is largely absent in other traditions of art. The aesthetic theorist John Ruskin, who championed what he saw as the naturalism of J. M. W. Turner, saw art\\'s role as the communication by artifice of an essential truth that could only be found in nature.The definition and evaluation of art has become especially problematic since the 20th century. Richard Wollheim distinguishes three approaches to assessing the aesthetic value of art: the Realist, whereby aesthetic quality is an absolute value independent of any human view; the Objectivist, whereby it is also an absolute value, but is dependent on general human experience; and the Relativist position, whereby it is not an absolute value, but depends on, and varies with, the human experience of different humans.\\n\\nArrival of Modernism\\nThe arrival of Modernism in the late 19th century led to a radical break in the conception of the function of art, and then again in the late 20th century with the advent of postmodernism. Clement Greenberg\\'s 1960 article \"Modernist Painting\" defines modern art as \"the use of characteristic methods of a discipline to criticize the discipline itself\". Greenberg originally applied this idea to the Abstract Expressionist movement and used it as a way to understand and justify flat (non-illusionistic) abstract painting:\\n\\nRealistic, naturalistic art had dissembled the medium, using art to conceal art; modernism used art to call attention to art. The limitations that constitute the medium of painting—the flat surface, the shape of the support, the properties of the pigment—were treated by the Old Masters as negative factors that could be acknowledged only implicitly or indirectly. Under Modernism these same limitations came to be regarded as positive factors, and were acknowledged openly. After Greenberg, several important art theorists emerged, such as Michael Fried, T. J. Clark, Rosalind Krauss, Linda Nochlin and Griselda Pollock among others. Though only originally intended as a way of understanding a specific set of artists, Greenberg\\'s definition of modern art is important to many of the ideas of art within the various art movements of the 20th century and early 21st century.Pop artists like Andy Warhol became both noteworthy and influential through work including and possibly critiquing popular culture, as well as the art world. Artists of the 1980s, 1990s, and 2000s expanded this technique of self-criticism beyond high art to all cultural image-making, including fashion images, comics, billboards and pornography.Duchamp once proposed that art is any activity of any kind-everything. However, the way that only certain activities are classified today as art is a social construction. There is evidence that there may be an element of truth to this. In The Invention of Art: A Cultural History, Larry Shiner examines the construction of the modern system of the arts, i.e. fine art. He finds evidence that the older system of the arts before our modern system (fine art) held art to be any skilled human activity; for example, Ancient Greek society did not possess the term art, but techne. Techne can be understood neither as art or craft, the reason being that the distinctions of art and craft are historical products that came later on in human history. Techne included painting, sculpting and music, but also cooking, medicine, horsemanship, geometry, carpentry, prophecy, and farming, etc.\\n\\nNew Criticism and the \"intentional fallacy\"\\nFollowing Duchamp during the first half of the 20th century, a significant shift to general aesthetic theory took place which attempted to apply aesthetic theory between various forms of art, including the literary arts and the visual arts, to each other. This resulted in the rise of the New Criticism school and debate concerning the intentional fallacy. At issue was the question of whether the aesthetic intentions of the artist in creating the work of art, whatever its specific form, should be associated with the criticism and evaluation of the final product of the work of art, or, if the work of art should be evaluated on its own merits independent of the intentions of the artist.In 1946, William K. Wimsatt and Monroe Beardsley published a classic and controversial New Critical essay entitled \"The Intentional Fallacy\", in which they argued strongly against the relevance of an author\\'s intention, or \"intended meaning\" in the analysis of a literary work. For Wimsatt and Beardsley, the words on the page were all that mattered; importation of meanings from outside the text was considered irrelevant, and potentially distracting.In another essay, \"The Affective Fallacy\", which served as a kind of sister essay to \"The Intentional Fallacy\" Wimsatt and Beardsley also discounted the reader\\'s personal/emotional reaction to a literary work as a valid means of analyzing a text. This fallacy would later be repudiated by theorists from the reader-response school of literary theory. Ironically, one of the leading theorists from this school, Stanley Fish, was himself trained by New Critics. Fish criticizes Wimsatt and Beardsley in his 1970 essay \"Literature in the Reader\".As summarized by Berys Gaut and Paisley Livingston in their essay \"The Creation of Art\": \"Structuralist and post-structuralists theorists and critics were sharply critical of many aspects of New Criticism, beginning with the emphasis on aesthetic appreciation and the so-called autonomy of art, but they reiterated the attack on biographical criticisms\\' assumption that the artist\\'s activities and experience were a privileged critical topic.\" These authors contend that: \"Anti-intentionalists, such as formalists, hold that the intentions involved in the making of art are irrelevant or peripheral to correctly interpreting art. So details of the act of creating a work, though possibly of interest in themselves, have no bearing on the correct interpretation of the work.\"Gaut and Livingston define the intentionalists as distinct from formalists stating that: \"Intentionalists, unlike formalists, hold that reference to intentions is essential in fixing the correct interpretation of works.\" They quote Richard Wollheim as stating that, \"The task of criticism is the reconstruction of the creative process, where the creative process must in turn be thought of as something not stopping short of, but terminating on, the work of art itself.\"\\n\\n\"Linguistic turn\" and its debate\\nThe end of the 20th century fostered an extensive debate known as the linguistic turn controversy, or the \"innocent eye debate\" in the philosophy of art. This debate discussed the encounter of the work of art as being determined by the relative extent to which the conceptual encounter with the work of art dominates over the perceptual encounter with the work of art.Decisive for the linguistic turn debate in art history and the humanities were the works of yet another tradition, namely the structuralism of Ferdinand de Saussure and the ensuing movement of poststructuralism. In 1981, the artist Mark Tansey created a work of art titled The Innocent Eye as a criticism of the prevailing climate of disagreement in the philosophy of art during the closing decades of the 20th century. Influential theorists include Judith Butler, Luce Irigaray, Julia Kristeva, Michel Foucault and Jacques Derrida. The power of language, more specifically of certain rhetorical tropes, in art history and historical discourse was explored by Hayden White. The fact that language is not a transparent medium of thought had been stressed by a very different form of philosophy of language which originated in the works of Johann Georg Hamann and Wilhelm von Humboldt. Ernst Gombrich and Nelson Goodman in his book Languages of Art: An Approach to a Theory of Symbols came to hold that the conceptual encounter with the work of art predominated exclusively over the perceptual and visual encounter with the work of art during the 1960s and 1970s. He was challenged on the basis of research done by the Nobel prize winning psychologist Roger Sperry who maintained that the human visual encounter was not limited to concepts represented in language alone (the linguistic turn) and that other forms of psychological representations of the work of art were equally defensible and demonstrable. Sperry\\'s view eventually prevailed by the end of the 20th century with aesthetic philosophers such as Nick Zangwill strongly defending a return to moderate aesthetic formalism among other alternatives.\\n\\nClassification disputes\\nDisputes as to whether or not to classify something as a work of art are referred to as classificatory disputes about art. Classificatory disputes in the 20th century have included cubist and impressionist paintings, Duchamp\\'s Fountain, the movies, J. S. G. Boggs\\' superlative imitations of banknotes, conceptual art, and video games. Philosopher David Novitz has argued that disagreement about the definition of art are rarely the heart of the problem. Rather, \"the passionate concerns and interests that humans vest in their social life\" are \"so much a part of all classificatory disputes about art.\" According to Novitz, classificatory disputes are more often disputes about societal values and where society is trying to go than they are about theory proper. For example, when the Daily Mail criticized Hirst\\'s and Emin\\'s work by arguing \"For 1,000 years art has been one of our great civilising forces. Today, pickled sheep and soiled beds threaten to make barbarians of us all\" they are not advancing a definition or theory about art, but questioning the value of Hirst\\'s and Emin\\'s work. In 1998, Arthur Danto, suggested a thought experiment showing that \"the status of an artifact as work of art results from the ideas a culture applies to it, rather than its inherent physical or perceptible qualities. Cultural interpretation (an art theory of some kind) is therefore constitutive of an object\\'s arthood.\"Anti-art is a label for art that intentionally challenges the established parameters and values of art; it is a term associated with Dadaism and attributed to Marcel Duchamp just before World War I, when he was making art from found objects. One of these, Fountain (1917), an ordinary urinal, has achieved considerable prominence and influence on art. Anti-art is a feature of work by Situationist International, the lo-fi Mail art movement, and the Young British Artists, though it is a form still rejected by the Stuckists, who describe themselves as anti-anti-art.Architecture is often included as one of the visual arts; however, like the decorative arts, or advertising, it involves the creation of objects where the practical considerations of use are essential in a way that they usually are not in a painting, for example.\\n\\nValue judgment\\nSomewhat in relation to the above, the word art is also used to apply judgments of value, as in such expressions as \"that meal was a work of art\" (the cook is an artist), or \"the art of deception\" (the highly attained level of skill of the deceiver is praised). It is this use of the word as a measure of high quality and high value that gives the term its flavor of subjectivity. Making judgments of value requires a basis for criticism. At the simplest level, a way to determine whether the impact of the object on the senses meets the criteria to be considered art is whether it is perceived to be attractive or repulsive. Though perception is always colored by experience, and is necessarily subjective, it is commonly understood that what is not somehow aesthetically satisfying cannot be art. However, \"good\" art is not always or even regularly aesthetically appealing to a majority of viewers. In other words, an artist\\'s prime motivation need not be the pursuit of the aesthetic. Also, art often depicts terrible images made for social, moral, or thought-provoking reasons. For example, Francisco Goya\\'s painting depicting the Spanish shootings of 3 May 1808 is a graphic depiction of a firing squad executing several pleading civilians. Yet at the same time, the horrific imagery demonstrates Goya\\'s keen artistic ability in composition and execution and produces fitting social and political outrage. Thus, the debate continues as to what mode of aesthetic satisfaction, if any, is required to define \\'art\\'.The assumption of new values or the rebellion against accepted notions of what is aesthetically superior need not occur concurrently with a complete abandonment of the pursuit of what is aesthetically appealing. Indeed, the reverse is often true, that the revision of what is popularly conceived of as being aesthetically appealing allows for a re-invigoration of aesthetic sensibility, and a new appreciation for the standards of art itself. Countless schools have proposed their own ways to define quality, yet they all seem to agree in at least one point: once their aesthetic choices are accepted, the value of the work of art is determined by its capacity to transcend the limits of its chosen medium to strike some universal chord by the rarity of the skill of the artist or in its accurate reflection in what is termed the zeitgeist. Art is often intended to appeal to and connect with human emotion. It can arouse aesthetic or moral feelings, and can be understood as a way of communicating these feelings. Artists express something so that their audience is aroused to some extent, but they do not have to do so consciously. Art may be considered an exploration of the human condition; that is, what it is to be human. By extension, it has been argued by Emily L. Spratt that the development of artificial intelligence, especially in regard to its uses with images, necessitates a re-evaluation of aesthetic theory in art history today and a reconsideration of the limits of human creativity.\\n\\nArt and law\\nAn essential legal issue are art forgeries, plagiarism, replicas and works that are strongly based on other works of art.\\nIntellectual property law plays a significant role in the art world.Copyright protection is granted to artists for their original works, providing them with exclusive rights to reproduce, distribute, and display their creations. This safeguard empowers artists to govern the usage of their work and safeguard against unauthorized copying or infringement. The trade in works of art or the export from a country may be subject to legal regulations. Internationally there are also extensive efforts to protect the works of art created. The UN, UNESCO and Blue Shield International try to ensure effective protection at the national level and to intervene directly in the event of armed conflicts or disasters. This can particularly affect museums, archives, art collections and excavation sites. This should also secure the economic basis of a country, especially because works of art are often of tourist importance. The founding president of Blue Shield International, Karl von Habsburg, explained an additional connection between the destruction of cultural property and the cause of flight during a mission in Lebanon in April 2019: \"Cultural goods are part of the identity of the people who live in a certain place. If you destroy their culture, you also destroy their identity. Many people are uprooted, often no longer have any prospects and as a result flee from their homeland.\"  In order to preserve the diversity of cultural identity, UNESCO protects the living human treasure through the Convention for the Safeguarding of the Intangible Cultural Heritage.\\n\\nSee also\\nReferences\\nWorks cited\\nBibliography\\nOscar Wilde, Intentions, 1891\\nKatharine Everett Gilbert and Helmut Kuhn, A History of Esthetics. Edition 2, revised. Indiana: Indiana University Press, 1953.\\nStephen Davies, Definitions of Art, 1991\\nNina Felshin, ed. But is it Art?, 1995\\nCatherine de Zegher (ed.). Inside the Visible. MIT Press, 1996\\nEvelyn Hatcher, ed. Art as Culture: An Introduction to the Anthropology of Art, 1999\\nNoel Carroll, Theories of Art Today, 2000\\nJohn Whitehead. Grasping for the Wind, 2001\\nMichael Ann Holly and Keith Moxey (eds.) Art History Aesthetics Visual Studies. New Haven: Yale University Press, 2002. ISBN 0300097891\\nShiner, Larry. The Invention of Art: A Cultural History. Chicago: University of Chicago Press, 2003. ISBN 978-0-226-75342-3\\nArthur Danto, The Abuse of Beauty: Aesthetics and the Concept of Art. 2003\\nDana Arnold and Margaret Iversen, eds. Art and Thought. London: Blackwell, 2003. ISBN 0631227156\\nJean Robertson and Craig McDaniel, Themes of Contemporary Art, Visual Art after 1980, 2005\\n\\nFurther reading\\nAntony Briant and Griselda Pollock, eds. Digital and Other Virtualities: Renegotiating the image. London and NY: I.B. Tauris, 2010. ISBN 978-1441676313\\nAugros, Robert M., Stanciu, George N. The New Story of Science: mind and the universe, Lake Bluff, Ill.: Regnery Gateway, 1984. ISBN 0-89526-833-7 (this book has significant material on art and science)\\nBenedetto Croce. Aesthetic as Science of Expression and General Linguistic, 2002\\nBotar, Oliver A.I. Technical Detours: The Early Moholy-Nagy Reconsidered. Art Gallery of The Graduate Center, The City University of New York and The Salgo Trust for Education, 2006. ISBN 978-1599713571\\nBurguete, Maria, and Lam, Lui, eds. (2011). Arts: A Science Matter. World Scientific: Singapore. ISBN 978-981-4324-93-9\\nCarol Armstrong and Catherine de Zegher, eds. Women Artists at the Millennium. Massachusetts: October Books/The MIT Press, 2006. ISBN 026201226X\\nColvin, Sidney (1911). \"Art\" . In Chisholm, Hugh (ed.). Encyclopædia Britannica. Vol. 2 (11th ed.). Cambridge University Press. pp. 657–660.\\nCarl Jung, Man and His Symbols. London: Pan Books, 1978. ISBN 0330253212\\nE.H. Gombrich, The Story of Art. London: Phaidon Press, 1995. ISBN 978-0714832470\\nFlorian Dombois, Ute Meta Bauer, Claudia Mareis and Michael Schwab, eds. Intellectual Birdhouse. Artistic Practice as Research. London: Koening Books, 2012. ISBN 978-3863351182\\nKristine Stiles and Peter Selz, eds. Theories and Documents of Contemporary Art. Berkeley: University of California Press, 1986\\nKleiner, Gardner, Mamiya and Tansey. Art Through the Ages, Twelfth Edition (2 volumes) Wadsworth, 2004. ISBN 0-534-64095-8 (vol 1) and ISBN 0-534-64091-5 (vol 2)\\nRichard Wollheim, Art and its Objects: An introduction to aesthetics. New York: Harper & Row, 1968. OCLC 1077405\\nWill Gompertz. What Are You Looking At?: 150 Years of Modern Art in the Blink of an Eye. New York: Viking, 2012. ISBN 978-0670920495\\nWładysław Tatarkiewicz, A History of Six Ideas: an Essay in Aesthetics, translated from the Polish by Christopher Kasparek, The Hague, Martinus Nijhoff, 1980\\n\\nExternal links\\n\\nArt and Play from the Dictionary of the History of ideas\\nIn-depth directory of art\\nArt and Artist Files in the Smithsonian Libraries Collection (2005) Smithsonian Digital Libraries\\nVisual Arts Data Service (VADS) – online collections from UK museums, galleries, universities\\nRevolutionArt – Art magazines with worldwide exhibitions, callings and competitions\\nAdajian, Thomas. \"The Definition of Art\". In Zalta, Edward N. (ed.). Stanford Encyclopedia of Philosophy.\\nArt at Curlie'"
      ]
     },
     "execution_count": 19,
     "metadata": {},
     "output_type": "execute_result"
    }
   ],
   "source": [
    "page.text"
   ]
  },
  {
   "cell_type": "code",
   "execution_count": 22,
   "id": "a5d51719-d3b5-4092-88a0-86f13edb2465",
   "metadata": {},
   "outputs": [
    {
     "data": {
      "text/plain": [
       "dict_keys(['wiki', '_summary', '_section', '_section_mapping', '_langlinks', '_links', '_backlinks', '_categories', '_categorymembers', '_called', '_attributes'])"
      ]
     },
     "execution_count": 22,
     "metadata": {},
     "output_type": "execute_result"
    }
   ],
   "source": [
    "page2=page.langlinks.get('he')#.summary\n",
    "page2.__dict__.keys()"
   ]
  },
  {
   "cell_type": "code",
   "execution_count": 28,
   "id": "c416a4f7-d313-42d3-96d5-1707e0c61d3e",
   "metadata": {},
   "outputs": [
    {
     "data": {
      "text/plain": [
       "'אמנות'"
      ]
     },
     "execution_count": 28,
     "metadata": {},
     "output_type": "execute_result"
    }
   ],
   "source": [
    "wiki.language='he'\n",
    "page2.title"
   ]
  },
  {
   "cell_type": "code",
   "execution_count": 30,
   "id": "83b3a56e-8130-4b49-88ff-1dbb820a3f59",
   "metadata": {},
   "outputs": [
    {
     "data": {
      "text/plain": [
       "'אמנות'"
      ]
     },
     "execution_count": 30,
     "metadata": {},
     "output_type": "execute_result"
    }
   ],
   "source": [
    "page2.title"
   ]
  },
  {
   "cell_type": "code",
   "execution_count": 29,
   "id": "0f7ec1a0-99b7-4ebc-a9b2-8d9ced31f54c",
   "metadata": {},
   "outputs": [
    {
     "ename": "KeyError",
     "evalue": "'query'",
     "output_type": "error",
     "traceback": [
      "\u001b[0;31m---------------------------------------------------------------------------\u001b[0m",
      "\u001b[0;31mKeyError\u001b[0m                                  Traceback (most recent call last)",
      "Cell \u001b[0;32mIn[29], line 2\u001b[0m\n\u001b[1;32m      1\u001b[0m page2\u001b[38;5;241m=\u001b[39mwiki\u001b[38;5;241m.\u001b[39mpage(page2\u001b[38;5;241m.\u001b[39mtitle)\n\u001b[0;32m----> 2\u001b[0m \u001b[43mpage2\u001b[49m\u001b[38;5;241;43m.\u001b[39;49m\u001b[43mtext\u001b[49m\n",
      "File \u001b[0;32m~/anaconda3/envs/wiki_data/lib/python3.12/site-packages/wikipediaapi/__init__.py:975\u001b[0m, in \u001b[0;36mWikipediaPage.text\u001b[0;34m(self)\u001b[0m\n\u001b[1;32m    968\u001b[0m \u001b[38;5;129m@property\u001b[39m\n\u001b[1;32m    969\u001b[0m \u001b[38;5;28;01mdef\u001b[39;00m \u001b[38;5;21mtext\u001b[39m(\u001b[38;5;28mself\u001b[39m) \u001b[38;5;241m-\u001b[39m\u001b[38;5;241m>\u001b[39m \u001b[38;5;28mstr\u001b[39m:\n\u001b[1;32m    970\u001b[0m \u001b[38;5;250m    \u001b[39m\u001b[38;5;124;03m\"\"\"\u001b[39;00m\n\u001b[1;32m    971\u001b[0m \u001b[38;5;124;03m    Returns text of the current page.\u001b[39;00m\n\u001b[1;32m    972\u001b[0m \n\u001b[1;32m    973\u001b[0m \u001b[38;5;124;03m    :return: text of the current page\u001b[39;00m\n\u001b[1;32m    974\u001b[0m \u001b[38;5;124;03m    \"\"\"\u001b[39;00m\n\u001b[0;32m--> 975\u001b[0m     txt \u001b[38;5;241m=\u001b[39m \u001b[38;5;28;43mself\u001b[39;49m\u001b[38;5;241;43m.\u001b[39;49m\u001b[43msummary\u001b[49m\n\u001b[1;32m    976\u001b[0m     \u001b[38;5;28;01mif\u001b[39;00m \u001b[38;5;28mlen\u001b[39m(txt) \u001b[38;5;241m>\u001b[39m \u001b[38;5;241m0\u001b[39m:\n\u001b[1;32m    977\u001b[0m         txt \u001b[38;5;241m+\u001b[39m\u001b[38;5;241m=\u001b[39m \u001b[38;5;124m\"\u001b[39m\u001b[38;5;130;01m\\n\u001b[39;00m\u001b[38;5;130;01m\\n\u001b[39;00m\u001b[38;5;124m\"\u001b[39m\n",
      "File \u001b[0;32m~/anaconda3/envs/wiki_data/lib/python3.12/site-packages/wikipediaapi/__init__.py:920\u001b[0m, in \u001b[0;36mWikipediaPage.summary\u001b[0;34m(self)\u001b[0m\n\u001b[1;32m    914\u001b[0m \u001b[38;5;250m\u001b[39m\u001b[38;5;124;03m\"\"\"\u001b[39;00m\n\u001b[1;32m    915\u001b[0m \u001b[38;5;124;03mReturns summary of the current page.\u001b[39;00m\n\u001b[1;32m    916\u001b[0m \n\u001b[1;32m    917\u001b[0m \u001b[38;5;124;03m:return: summary\u001b[39;00m\n\u001b[1;32m    918\u001b[0m \u001b[38;5;124;03m\"\"\"\u001b[39;00m\n\u001b[1;32m    919\u001b[0m \u001b[38;5;28;01mif\u001b[39;00m \u001b[38;5;129;01mnot\u001b[39;00m \u001b[38;5;28mself\u001b[39m\u001b[38;5;241m.\u001b[39m_called[\u001b[38;5;124m\"\u001b[39m\u001b[38;5;124mextracts\u001b[39m\u001b[38;5;124m\"\u001b[39m]:\n\u001b[0;32m--> 920\u001b[0m     \u001b[38;5;28;43mself\u001b[39;49m\u001b[38;5;241;43m.\u001b[39;49m\u001b[43m_fetch\u001b[49m\u001b[43m(\u001b[49m\u001b[38;5;124;43m\"\u001b[39;49m\u001b[38;5;124;43mextracts\u001b[39;49m\u001b[38;5;124;43m\"\u001b[39;49m\u001b[43m)\u001b[49m\n\u001b[1;32m    921\u001b[0m \u001b[38;5;28;01mreturn\u001b[39;00m \u001b[38;5;28mself\u001b[39m\u001b[38;5;241m.\u001b[39m_summary\n",
      "File \u001b[0;32m~/anaconda3/envs/wiki_data/lib/python3.12/site-packages/wikipediaapi/__init__.py:1064\u001b[0m, in \u001b[0;36mWikipediaPage._fetch\u001b[0;34m(self, call)\u001b[0m\n\u001b[1;32m   1062\u001b[0m \u001b[38;5;28;01mdef\u001b[39;00m \u001b[38;5;21m_fetch\u001b[39m(\u001b[38;5;28mself\u001b[39m, call) \u001b[38;5;241m-\u001b[39m\u001b[38;5;241m>\u001b[39m \u001b[38;5;124m\"\u001b[39m\u001b[38;5;124mWikipediaPage\u001b[39m\u001b[38;5;124m\"\u001b[39m:\n\u001b[1;32m   1063\u001b[0m \u001b[38;5;250m    \u001b[39m\u001b[38;5;124;03m\"\"\"Fetches some data?.\"\"\"\u001b[39;00m\n\u001b[0;32m-> 1064\u001b[0m     \u001b[38;5;28;43mgetattr\u001b[39;49m\u001b[43m(\u001b[49m\u001b[38;5;28;43mself\u001b[39;49m\u001b[38;5;241;43m.\u001b[39;49m\u001b[43mwiki\u001b[49m\u001b[43m,\u001b[49m\u001b[43m \u001b[49m\u001b[43mcall\u001b[49m\u001b[43m)\u001b[49m\u001b[43m(\u001b[49m\u001b[38;5;28;43mself\u001b[39;49m\u001b[43m)\u001b[49m\n\u001b[1;32m   1065\u001b[0m     \u001b[38;5;28mself\u001b[39m\u001b[38;5;241m.\u001b[39m_called[call] \u001b[38;5;241m=\u001b[39m \u001b[38;5;28;01mTrue\u001b[39;00m\n\u001b[1;32m   1066\u001b[0m     \u001b[38;5;28;01mreturn\u001b[39;00m \u001b[38;5;28mself\u001b[39m\n",
      "File \u001b[0;32m~/anaconda3/envs/wiki_data/lib/python3.12/site-packages/wikipediaapi/__init__.py:298\u001b[0m, in \u001b[0;36mWikipedia.extracts\u001b[0;34m(self, page, **kwargs)\u001b[0m\n\u001b[1;32m    295\u001b[0m used_params\u001b[38;5;241m.\u001b[39mupdate(params)\n\u001b[1;32m    297\u001b[0m raw \u001b[38;5;241m=\u001b[39m \u001b[38;5;28mself\u001b[39m\u001b[38;5;241m.\u001b[39m_query(page, used_params)\n\u001b[0;32m--> 298\u001b[0m \u001b[38;5;28mself\u001b[39m\u001b[38;5;241m.\u001b[39m_common_attributes(\u001b[43mraw\u001b[49m\u001b[43m[\u001b[49m\u001b[38;5;124;43m\"\u001b[39;49m\u001b[38;5;124;43mquery\u001b[39;49m\u001b[38;5;124;43m\"\u001b[39;49m\u001b[43m]\u001b[49m, page)\n\u001b[1;32m    299\u001b[0m pages \u001b[38;5;241m=\u001b[39m raw[\u001b[38;5;124m\"\u001b[39m\u001b[38;5;124mquery\u001b[39m\u001b[38;5;124m\"\u001b[39m][\u001b[38;5;124m\"\u001b[39m\u001b[38;5;124mpages\u001b[39m\u001b[38;5;124m\"\u001b[39m]\n\u001b[1;32m    300\u001b[0m \u001b[38;5;28;01mfor\u001b[39;00m k, v \u001b[38;5;129;01min\u001b[39;00m pages\u001b[38;5;241m.\u001b[39mitems():\n",
      "\u001b[0;31mKeyError\u001b[0m: 'query'"
     ]
    }
   ],
   "source": [
    "page2=wiki.page(page2.title)\n",
    "page2.text"
   ]
  },
  {
   "cell_type": "code",
   "execution_count": 31,
   "id": "f99ac983-6493-4514-a20e-e7a52d7d201e",
   "metadata": {},
   "outputs": [
    {
     "name": "stdout",
     "output_type": "stream",
     "text": [
      "Help on method page in module wikipediaapi:\n",
      "\n",
      "page(title: str, ns: Union[wikipediaapi.Namespace, int] = <Namespace.MAIN: 0>, unquote: bool = False) -> 'WikipediaPage' method of wikipediaapi.Wikipedia instance\n",
      "    Constructs Wikipedia page with title `title`.\n",
      "\n",
      "    Creating `WikipediaPage` object is always the first step for extracting\n",
      "    any information.\n",
      "\n",
      "    Example::\n",
      "\n",
      "        wiki_wiki = wikipediaapi.Wikipedia('en')\n",
      "        page_py = wiki_wiki.page('Python_(programming_language)')\n",
      "        print(page_py.title)\n",
      "        # Python (programming language)\n",
      "\n",
      "        wiki_hi = wikipediaapi.Wikipedia('hi')\n",
      "\n",
      "        page_hi_py = wiki_hi.article(\n",
      "            title='%E0%A4%AA%E0%A4%BE%E0%A4%87%E0%A4%A5%E0%A4%A8',\n",
      "            unquote=True,\n",
      "        )\n",
      "        print(page_hi_py.title)\n",
      "        # पाइथन\n",
      "\n",
      "    :param title: page title as used in Wikipedia URL\n",
      "    :param ns: :class:`WikiNamespace`\n",
      "    :param unquote: if true it will unquote title\n",
      "    :return: object representing :class:`WikipediaPage`\n",
      "\n"
     ]
    }
   ],
   "source": [
    "help(wiki.page)"
   ]
  },
  {
   "cell_type": "code",
   "execution_count": 33,
   "id": "6ceb7fd4-6470-4a09-9a22-8ae68541713f",
   "metadata": {},
   "outputs": [
    {
     "data": {
      "text/plain": [
       "<function wikipediaapi.WikipediaPage.__init__(self, wiki: wikipediaapi.Wikipedia, title: str, ns: Union[wikipediaapi.Namespace, int] = <Namespace.MAIN: 0>, language: str = 'en', url: Optional[str] = None) -> None>"
      ]
     },
     "execution_count": 33,
     "metadata": {},
     "output_type": "execute_result"
    }
   ],
   "source": [
    "wikipediaapi.WikipediaPage.__init__"
   ]
  },
  {
   "cell_type": "code",
   "execution_count": 35,
   "id": "c31e2b9b-db2e-4d8e-ba73-58064bc10173",
   "metadata": {},
   "outputs": [
    {
     "ename": "KeyError",
     "evalue": "'query'",
     "output_type": "error",
     "traceback": [
      "\u001b[0;31m---------------------------------------------------------------------------\u001b[0m",
      "\u001b[0;31mKeyError\u001b[0m                                  Traceback (most recent call last)",
      "Cell \u001b[0;32mIn[35], line 2\u001b[0m\n\u001b[1;32m      1\u001b[0m page2\u001b[38;5;241m=\u001b[39mwikipediaapi\u001b[38;5;241m.\u001b[39mWikipediaPage(wiki,page2\u001b[38;5;241m.\u001b[39mtitle,language\u001b[38;5;241m=\u001b[39m\u001b[38;5;124m'\u001b[39m\u001b[38;5;124mhe\u001b[39m\u001b[38;5;124m'\u001b[39m)\n\u001b[0;32m----> 2\u001b[0m \u001b[43mpage2\u001b[49m\u001b[38;5;241;43m.\u001b[39;49m\u001b[43mtext\u001b[49m\n",
      "File \u001b[0;32m~/anaconda3/envs/wiki_data/lib/python3.12/site-packages/wikipediaapi/__init__.py:975\u001b[0m, in \u001b[0;36mWikipediaPage.text\u001b[0;34m(self)\u001b[0m\n\u001b[1;32m    968\u001b[0m \u001b[38;5;129m@property\u001b[39m\n\u001b[1;32m    969\u001b[0m \u001b[38;5;28;01mdef\u001b[39;00m \u001b[38;5;21mtext\u001b[39m(\u001b[38;5;28mself\u001b[39m) \u001b[38;5;241m-\u001b[39m\u001b[38;5;241m>\u001b[39m \u001b[38;5;28mstr\u001b[39m:\n\u001b[1;32m    970\u001b[0m \u001b[38;5;250m    \u001b[39m\u001b[38;5;124;03m\"\"\"\u001b[39;00m\n\u001b[1;32m    971\u001b[0m \u001b[38;5;124;03m    Returns text of the current page.\u001b[39;00m\n\u001b[1;32m    972\u001b[0m \n\u001b[1;32m    973\u001b[0m \u001b[38;5;124;03m    :return: text of the current page\u001b[39;00m\n\u001b[1;32m    974\u001b[0m \u001b[38;5;124;03m    \"\"\"\u001b[39;00m\n\u001b[0;32m--> 975\u001b[0m     txt \u001b[38;5;241m=\u001b[39m \u001b[38;5;28;43mself\u001b[39;49m\u001b[38;5;241;43m.\u001b[39;49m\u001b[43msummary\u001b[49m\n\u001b[1;32m    976\u001b[0m     \u001b[38;5;28;01mif\u001b[39;00m \u001b[38;5;28mlen\u001b[39m(txt) \u001b[38;5;241m>\u001b[39m \u001b[38;5;241m0\u001b[39m:\n\u001b[1;32m    977\u001b[0m         txt \u001b[38;5;241m+\u001b[39m\u001b[38;5;241m=\u001b[39m \u001b[38;5;124m\"\u001b[39m\u001b[38;5;130;01m\\n\u001b[39;00m\u001b[38;5;130;01m\\n\u001b[39;00m\u001b[38;5;124m\"\u001b[39m\n",
      "File \u001b[0;32m~/anaconda3/envs/wiki_data/lib/python3.12/site-packages/wikipediaapi/__init__.py:920\u001b[0m, in \u001b[0;36mWikipediaPage.summary\u001b[0;34m(self)\u001b[0m\n\u001b[1;32m    914\u001b[0m \u001b[38;5;250m\u001b[39m\u001b[38;5;124;03m\"\"\"\u001b[39;00m\n\u001b[1;32m    915\u001b[0m \u001b[38;5;124;03mReturns summary of the current page.\u001b[39;00m\n\u001b[1;32m    916\u001b[0m \n\u001b[1;32m    917\u001b[0m \u001b[38;5;124;03m:return: summary\u001b[39;00m\n\u001b[1;32m    918\u001b[0m \u001b[38;5;124;03m\"\"\"\u001b[39;00m\n\u001b[1;32m    919\u001b[0m \u001b[38;5;28;01mif\u001b[39;00m \u001b[38;5;129;01mnot\u001b[39;00m \u001b[38;5;28mself\u001b[39m\u001b[38;5;241m.\u001b[39m_called[\u001b[38;5;124m\"\u001b[39m\u001b[38;5;124mextracts\u001b[39m\u001b[38;5;124m\"\u001b[39m]:\n\u001b[0;32m--> 920\u001b[0m     \u001b[38;5;28;43mself\u001b[39;49m\u001b[38;5;241;43m.\u001b[39;49m\u001b[43m_fetch\u001b[49m\u001b[43m(\u001b[49m\u001b[38;5;124;43m\"\u001b[39;49m\u001b[38;5;124;43mextracts\u001b[39;49m\u001b[38;5;124;43m\"\u001b[39;49m\u001b[43m)\u001b[49m\n\u001b[1;32m    921\u001b[0m \u001b[38;5;28;01mreturn\u001b[39;00m \u001b[38;5;28mself\u001b[39m\u001b[38;5;241m.\u001b[39m_summary\n",
      "File \u001b[0;32m~/anaconda3/envs/wiki_data/lib/python3.12/site-packages/wikipediaapi/__init__.py:1064\u001b[0m, in \u001b[0;36mWikipediaPage._fetch\u001b[0;34m(self, call)\u001b[0m\n\u001b[1;32m   1062\u001b[0m \u001b[38;5;28;01mdef\u001b[39;00m \u001b[38;5;21m_fetch\u001b[39m(\u001b[38;5;28mself\u001b[39m, call) \u001b[38;5;241m-\u001b[39m\u001b[38;5;241m>\u001b[39m \u001b[38;5;124m\"\u001b[39m\u001b[38;5;124mWikipediaPage\u001b[39m\u001b[38;5;124m\"\u001b[39m:\n\u001b[1;32m   1063\u001b[0m \u001b[38;5;250m    \u001b[39m\u001b[38;5;124;03m\"\"\"Fetches some data?.\"\"\"\u001b[39;00m\n\u001b[0;32m-> 1064\u001b[0m     \u001b[38;5;28;43mgetattr\u001b[39;49m\u001b[43m(\u001b[49m\u001b[38;5;28;43mself\u001b[39;49m\u001b[38;5;241;43m.\u001b[39;49m\u001b[43mwiki\u001b[49m\u001b[43m,\u001b[49m\u001b[43m \u001b[49m\u001b[43mcall\u001b[49m\u001b[43m)\u001b[49m\u001b[43m(\u001b[49m\u001b[38;5;28;43mself\u001b[39;49m\u001b[43m)\u001b[49m\n\u001b[1;32m   1065\u001b[0m     \u001b[38;5;28mself\u001b[39m\u001b[38;5;241m.\u001b[39m_called[call] \u001b[38;5;241m=\u001b[39m \u001b[38;5;28;01mTrue\u001b[39;00m\n\u001b[1;32m   1066\u001b[0m     \u001b[38;5;28;01mreturn\u001b[39;00m \u001b[38;5;28mself\u001b[39m\n",
      "File \u001b[0;32m~/anaconda3/envs/wiki_data/lib/python3.12/site-packages/wikipediaapi/__init__.py:298\u001b[0m, in \u001b[0;36mWikipedia.extracts\u001b[0;34m(self, page, **kwargs)\u001b[0m\n\u001b[1;32m    295\u001b[0m used_params\u001b[38;5;241m.\u001b[39mupdate(params)\n\u001b[1;32m    297\u001b[0m raw \u001b[38;5;241m=\u001b[39m \u001b[38;5;28mself\u001b[39m\u001b[38;5;241m.\u001b[39m_query(page, used_params)\n\u001b[0;32m--> 298\u001b[0m \u001b[38;5;28mself\u001b[39m\u001b[38;5;241m.\u001b[39m_common_attributes(\u001b[43mraw\u001b[49m\u001b[43m[\u001b[49m\u001b[38;5;124;43m\"\u001b[39;49m\u001b[38;5;124;43mquery\u001b[39;49m\u001b[38;5;124;43m\"\u001b[39;49m\u001b[43m]\u001b[49m, page)\n\u001b[1;32m    299\u001b[0m pages \u001b[38;5;241m=\u001b[39m raw[\u001b[38;5;124m\"\u001b[39m\u001b[38;5;124mquery\u001b[39m\u001b[38;5;124m\"\u001b[39m][\u001b[38;5;124m\"\u001b[39m\u001b[38;5;124mpages\u001b[39m\u001b[38;5;124m\"\u001b[39m]\n\u001b[1;32m    300\u001b[0m \u001b[38;5;28;01mfor\u001b[39;00m k, v \u001b[38;5;129;01min\u001b[39;00m pages\u001b[38;5;241m.\u001b[39mitems():\n",
      "\u001b[0;31mKeyError\u001b[0m: 'query'"
     ]
    }
   ],
   "source": [
    "page2=wikipediaapi.WikipediaPage(wiki,page2.title,language='he')\n",
    "page2.text"
   ]
  },
  {
   "cell_type": "markdown",
   "id": "f0d3b8bb-0f3d-4ea3-a429-87654069f7d6",
   "metadata": {},
   "source": [
    "# no package doing this raw"
   ]
  },
  {
   "cell_type": "code",
   "execution_count": 13,
   "id": "7fe90065-84f4-4d1e-9a1b-877b7828cb1e",
   "metadata": {},
   "outputs": [
    {
     "name": "stdout",
     "output_type": "stream",
     "text": [
      "Title: Art\n",
      "Summary: Art is a diverse range of human activity, and its resulting product, that involves creative or imaginative talent generally expressive of technical proficiency, beauty, emotional power, or conceptual ideas.There is no generally agreed definition of what constitutes art, and its interpretation has varied greatly throughout history and across cultures. In the Western tradition, the three classical branches of visual art are painting, sculpture, and architecture. Theatre, dance, and other performing arts, as well as literature, music, film and other media such as interactive media, are included in a broader definition of the arts. Until the 17th century, art referred to any skill or mastery and was not differentiated from crafts or sciences. In modern usage after the 17th century, where aesthetic considerations are paramount, the fine arts are separated and distinguished from acquired skills in general, such as the decorative or applied arts.\n",
      "The nature of art and related concepts, such as creativity and interpretation, are explored in a branch of philosophy known as aesthetics. The resulting artworks are studied in the professional fields of art criticism and the history of art.\n",
      "\n",
      "\n",
      "Sections: None\n",
      "Language Links: [{'lang': 'af', '*': 'Kuns'}, {'lang': 'als', '*': 'Kunst'}, {'lang': 'alt', '*': 'Кееркемел'}, {'lang': 'am', '*': 'ሥነ ጥበብ'}, {'lang': 'an', '*': 'Arte'}, {'lang': 'anp', '*': 'कला'}, {'lang': 'ar', '*': 'فن'}, {'lang': 'ary', '*': 'فن'}, {'lang': 'arz', '*': 'فن'}, {'lang': 'as', '*': 'কলা'}, {'lang': 'ast', '*': 'Arte'}, {'lang': 'av', '*': 'Гьунарлъи'}, {'lang': 'avk', '*': 'Yamba'}, {'lang': 'ay', '*': 'Yäpa'}, {'lang': 'az', '*': 'İncəsənət'}, {'lang': 'azb', '*': 'اینجه\\u200cصنعت'}, {'lang': 'ba', '*': 'Сәнғәт'}, {'lang': 'bar', '*': 'Kunst'}, {'lang': 'bat-smg', '*': 'Mens'}, {'lang': 'bcl', '*': 'Arte'}, {'lang': 'be', '*': 'Мастацтва'}, {'lang': 'be-x-old', '*': 'Мастацтва'}, {'lang': 'bg', '*': 'Изкуство'}, {'lang': 'bh', '*': 'कला'}, {'lang': 'blk', '*': 'အနုပညာႏ'}, {'lang': 'bn', '*': 'শিল্পকলা'}, {'lang': 'bo', '*': 'སྒྱུ་རྩལ།'}, {'lang': 'bpy', '*': 'কলা বারো কলাতত্ত্ব'}, {'lang': 'br', '*': 'Arz'}, {'lang': 'bs', '*': 'Umjetnost'}, {'lang': 'bxr', '*': 'Уралиг'}, {'lang': 'ca', '*': 'Art'}, {'lang': 'cdo', '*': 'Mī-sŭk'}, {'lang': 'ce', '*': 'Исбаьхьалла'}, {'lang': 'ceb', '*': 'Arte'}, {'lang': 'ckb', '*': 'ھونەر'}, {'lang': 'co', '*': 'Arte'}, {'lang': 'crh', '*': 'Sanat'}, {'lang': 'cs', '*': 'Umění'}, {'lang': 'csb', '*': 'Kùńszt'}, {'lang': 'cv', '*': 'Ӳнер'}, {'lang': 'cy', '*': 'Celf'}, {'lang': 'da', '*': 'Kunst'}, {'lang': 'de', '*': 'Kunst'}, {'lang': 'diq', '*': 'Huner'}, {'lang': 'el', '*': 'Τέχνες'}, {'lang': 'eo', '*': 'Arto'}, {'lang': 'es', '*': 'Arte'}, {'lang': 'et', '*': 'Kunst'}, {'lang': 'eu', '*': 'Arte'}, {'lang': 'ext', '*': 'Arti'}, {'lang': 'fa', '*': 'هنر'}, {'lang': 'fi', '*': 'Taide'}, {'lang': 'fiu-vro', '*': 'Kunst'}, {'lang': 'fj', '*': 'Cakacakaniliga'}, {'lang': 'fr', '*': 'Art'}, {'lang': 'frp', '*': 'Ârt'}, {'lang': 'frr', '*': 'Konst'}, {'lang': 'fur', '*': 'Art'}, {'lang': 'fy', '*': 'Keunst'}, {'lang': 'ga', '*': 'Ealaín'}, {'lang': 'gan', '*': '藝術'}, {'lang': 'gcr', '*': 'Lar'}, {'lang': 'gd', '*': 'Ealain'}, {'lang': 'gl', '*': 'Arte'}, {'lang': 'glk', '*': 'هۊنر'}, {'lang': 'gn', '*': 'Tembiapoporã'}, {'lang': 'gu', '*': 'કલા'}, {'lang': 'gv', '*': 'Ellyn'}, {'lang': 'ha', '*': 'Art'}, {'lang': 'hak', '*': 'Ngi-su̍t'}, {'lang': 'haw', '*': 'Pāheona'}, {'lang': 'he', '*': 'אמנות'}, {'lang': 'hi', '*': 'कला'}, {'lang': 'hif', '*': 'Art'}, {'lang': 'hr', '*': 'Umjetnost'}, {'lang': 'ht', '*': 'La (aktivite)'}, {'lang': 'hu', '*': 'Művészet'}, {'lang': 'hy', '*': 'Արվեստ'}, {'lang': 'hyw', '*': 'Արուեստ'}, {'lang': 'ia', '*': 'Arte'}, {'lang': 'id', '*': 'Seni'}, {'lang': 'ie', '*': 'Arte'}, {'lang': 'ig', '*': 'Ǹkà'}, {'lang': 'ilo', '*': 'Arte'}, {'lang': 'io', '*': 'Arto'}, {'lang': 'is', '*': 'List'}, {'lang': 'it', '*': 'Arte'}, {'lang': 'ja', '*': '芸術'}, {'lang': 'jam', '*': 'Aat'}, {'lang': 'jbo', '*': 'larcu'}, {'lang': 'jv', '*': 'Kagunan'}, {'lang': 'ka', '*': 'ხელოვნება'}, {'lang': 'kab', '*': 'Taẓuri'}, {'lang': 'kbd', '*': 'Гъуазджэ'}, {'lang': 'kk', '*': 'Өнер'}, {'lang': 'kl', '*': 'Eqqumiitsuliorneq'}, {'lang': 'km', '*': 'សិល្បៈ'}, {'lang': 'kn', '*': 'ಕಲೆ'}, {'lang': 'ko', '*': '예술'}, {'lang': 'ks', '*': 'فَن'}, {'lang': 'ku', '*': 'Huner'}, {'lang': 'kw', '*': 'Art'}, {'lang': 'ky', '*': 'Искусство'}, {'lang': 'la', '*': 'Ars'}, {'lang': 'lad', '*': 'Arte'}, {'lang': 'lb', '*': 'Konscht'}, {'lang': 'lfn', '*': 'Arte'}, {'lang': 'li', '*': 'Kuns'}, {'lang': 'lij', '*': 'Arte'}, {'lang': 'lld', '*': 'Ert'}, {'lang': 'lmo', '*': 'Art'}, {'lang': 'ln', '*': 'Ntɔ́ki'}, {'lang': 'lo', '*': 'ສິນລະປະ'}, {'lang': 'lt', '*': 'Menas'}, {'lang': 'lv', '*': 'Māksla'}, {'lang': 'mai', '*': 'कला'}, {'lang': 'mdf', '*': 'Сетеньсь'}, {'lang': 'mg', '*': 'Kanto'}, {'lang': 'mhr', '*': 'Сымыктыш'}, {'lang': 'min', '*': 'Seni'}, {'lang': 'mk', '*': 'Уметност'}, {'lang': 'mn', '*': 'Урлаг'}, {'lang': 'mnw', '*': 'ပါန်ကွတ်'}, {'lang': 'mr', '*': 'कला'}, {'lang': 'ms', '*': 'Seni'}, {'lang': 'mt', '*': 'Arti'}, {'lang': 'mwl', '*': 'Arte'}, {'lang': 'my', '*': 'အနုပညာ'}, {'lang': 'myv', '*': 'Сэтень'}, {'lang': 'mzn', '*': 'هنر'}, {'lang': 'nah', '*': 'Tequichihualiztli'}, {'lang': 'nap', '*': 'Arte'}, {'lang': 'nds', '*': 'Kunst'}, {'lang': 'nds-nl', '*': 'Keunst'}, {'lang': 'ne', '*': 'कला'}, {'lang': 'nl', '*': 'Kunst'}, {'lang': 'nn', '*': 'Kunst'}, {'lang': 'nb', '*': 'Kunst'}, {'lang': 'oc', '*': 'Art'}, {'lang': 'om', '*': 'Aartii'}, {'lang': 'os', '*': 'Аивад'}, {'lang': 'pa', '*': 'ਕਲਾ'}, {'lang': 'pap', '*': 'Arte'}, {'lang': 'pfl', '*': 'Kunst'}, {'lang': 'pl', '*': 'Sztuka'}, {'lang': 'pnb', '*': 'آرٹ'}, {'lang': 'ps', '*': 'هنر'}, {'lang': 'pt', '*': 'Arte'}, {'lang': 'qu', '*': 'Kapchiy'}, {'lang': 'ro', '*': 'Artă'}, {'lang': 'roa-rup', '*': 'Artâ'}, {'lang': 'ru', '*': 'Искусство'}, {'lang': 'rue', '*': 'Уменя'}, {'lang': 'sa', '*': 'कला'}, {'lang': 'sah', '*': 'Дьоҕур'}, {'lang': 'sc', '*': 'Arte'}, {'lang': 'scn', '*': 'Arti'}, {'lang': 'sco', '*': 'Airt'}, {'lang': 'sd', '*': 'فن'}, {'lang': 'sh', '*': 'Umjetnost'}, {'lang': 'shi', '*': 'Taẓuṛi'}, {'lang': 'si', '*': 'කලාව'}, {'lang': 'simple', '*': 'Art'}, {'lang': 'sk', '*': 'Umenie'}, {'lang': 'sl', '*': 'Umetnost'}, {'lang': 'sm', '*': 'Faatufugaga'}, {'lang': 'sn', '*': 'Useza'}, {'lang': 'sq', '*': 'Arti'}, {'lang': 'sr', '*': 'Уметност'}, {'lang': 'ss', '*': 'Buciko'}, {'lang': 'stq', '*': 'Kunst'}, {'lang': 'su', '*': 'Seni'}, {'lang': 'sv', '*': 'Konst'}, {'lang': 'sw', '*': 'Usanii'}, {'lang': 'szl', '*': 'Kōnszt'}, {'lang': 'ta', '*': 'கலை'}, {'lang': 'te', '*': 'కళ'}, {'lang': 'tg', '*': 'Санъат'}, {'lang': 'th', '*': 'ศิลปะ'}, {'lang': 'ti', '*': 'ስነ ጥበብ'}, {'lang': 'tl', '*': 'Sining'}, {'lang': 'to', '*': 'ʻĀti'}, {'lang': 'tpi', '*': 'At'}, {'lang': 'tr', '*': 'Sanat'}, {'lang': 'ts', '*': 'Vuqambhi'}, {'lang': 'tt', '*': 'Sänğät'}, {'lang': 'uk', '*': 'Мистецтво'}, {'lang': 'ur', '*': 'فن'}, {'lang': 'uz', '*': 'Sanʼat'}, {'lang': 'vec', '*': 'Arte'}, {'lang': 'vep', '*': 'Čomamaht'}, {'lang': 'vi', '*': 'Nghệ thuật'}, {'lang': 'vo', '*': 'Lekan'}, {'lang': 'wa', '*': 'Årt'}, {'lang': 'war', '*': 'Arté'}, {'lang': 'wo', '*': 'Fànn'}, {'lang': 'wuu', '*': '艺术'}, {'lang': 'xh', '*': 'Ubugcisa'}, {'lang': 'xmf', '*': 'ხელუანობა'}, {'lang': 'yi', '*': 'קונסט'}, {'lang': 'yo', '*': 'Iṣẹ́ ọnà'}, {'lang': 'za', '*': 'Yisuz'}, {'lang': 'zea', '*': 'Kunst'}, {'lang': 'zgh', '*': 'ⵜⴰⵥⵓⵔⵉ'}, {'lang': 'zh', '*': '艺术'}, {'lang': 'zh-min-nan', '*': 'Gē-su̍t'}, {'lang': 'zh-yue', '*': '藝術'}, {'lang': 'zu', '*': 'Ubuciko'}]\n"
     ]
    }
   ],
   "source": [
    "import requests\n",
    "\n",
    "# MediaWiki API endpoint\n",
    "api_url = \"https://en.wikipedia.org/w/api.php\"\n",
    "\n",
    "# Headers for OAuth\n",
    "headers = {\n",
    "    \"Authorization\": f\"Bearer {secrets['Access token']}\"\n",
    "}\n",
    "\n",
    "# Parameters for the API request\n",
    "params = {\n",
    "    \"action\": \"query\",\n",
    "    \"format\": \"json\",\n",
    "    \"titles\": \"Art\",  # Replace with your article title\n",
    "    \"prop\": \"extracts|langlinks|info\",\n",
    "    \"exintro\": True,\n",
    "    \"explaintext\": True,\n",
    "    \"redirects\": 1,\n",
    "    \"lllimit\": \"max\",\n",
    "}\n",
    "\n",
    "response = requests.get(api_url, headers=headers, params=params)\n",
    "data = response.json()\n",
    "\n",
    "# Extracting desired information from the response\n",
    "page = next(iter(data['query']['pages'].values()))  # Getting the first page in the response\n",
    "title = page.get('title')\n",
    "summary = page.get('extract')\n",
    "sections = page.get('sections')\n",
    "lang_links = page.get('langlinks')\n",
    "\n",
    "# Outputting the extracted information\n",
    "print(f\"Title: {title}\\nSummary: {summary}\\nSections: {sections}\\nLanguage Links: {lang_links}\")\n"
   ]
  },
  {
   "cell_type": "code",
   "execution_count": 14,
   "id": "05f43659-48ea-4f56-a94e-f83d3d5ebcfa",
   "metadata": {},
   "outputs": [
    {
     "data": {
      "text/plain": [
       "[{'lang': 'af', '*': 'Kuns'},\n",
       " {'lang': 'als', '*': 'Kunst'},\n",
       " {'lang': 'alt', '*': 'Кееркемел'},\n",
       " {'lang': 'am', '*': 'ሥነ ጥበብ'},\n",
       " {'lang': 'an', '*': 'Arte'},\n",
       " {'lang': 'anp', '*': 'कला'},\n",
       " {'lang': 'ar', '*': 'فن'},\n",
       " {'lang': 'ary', '*': 'فن'},\n",
       " {'lang': 'arz', '*': 'فن'},\n",
       " {'lang': 'as', '*': 'কলা'},\n",
       " {'lang': 'ast', '*': 'Arte'},\n",
       " {'lang': 'av', '*': 'Гьунарлъи'},\n",
       " {'lang': 'avk', '*': 'Yamba'},\n",
       " {'lang': 'ay', '*': 'Yäpa'},\n",
       " {'lang': 'az', '*': 'İncəsənət'},\n",
       " {'lang': 'azb', '*': 'اینجه\\u200cصنعت'},\n",
       " {'lang': 'ba', '*': 'Сәнғәт'},\n",
       " {'lang': 'bar', '*': 'Kunst'},\n",
       " {'lang': 'bat-smg', '*': 'Mens'},\n",
       " {'lang': 'bcl', '*': 'Arte'},\n",
       " {'lang': 'be', '*': 'Мастацтва'},\n",
       " {'lang': 'be-x-old', '*': 'Мастацтва'},\n",
       " {'lang': 'bg', '*': 'Изкуство'},\n",
       " {'lang': 'bh', '*': 'कला'},\n",
       " {'lang': 'blk', '*': 'အနုပညာႏ'},\n",
       " {'lang': 'bn', '*': 'শিল্পকলা'},\n",
       " {'lang': 'bo', '*': 'སྒྱུ་རྩལ།'},\n",
       " {'lang': 'bpy', '*': 'কলা বারো কলাতত্ত্ব'},\n",
       " {'lang': 'br', '*': 'Arz'},\n",
       " {'lang': 'bs', '*': 'Umjetnost'},\n",
       " {'lang': 'bxr', '*': 'Уралиг'},\n",
       " {'lang': 'ca', '*': 'Art'},\n",
       " {'lang': 'cdo', '*': 'Mī-sŭk'},\n",
       " {'lang': 'ce', '*': 'Исбаьхьалла'},\n",
       " {'lang': 'ceb', '*': 'Arte'},\n",
       " {'lang': 'ckb', '*': 'ھونەر'},\n",
       " {'lang': 'co', '*': 'Arte'},\n",
       " {'lang': 'crh', '*': 'Sanat'},\n",
       " {'lang': 'cs', '*': 'Umění'},\n",
       " {'lang': 'csb', '*': 'Kùńszt'},\n",
       " {'lang': 'cv', '*': 'Ӳнер'},\n",
       " {'lang': 'cy', '*': 'Celf'},\n",
       " {'lang': 'da', '*': 'Kunst'},\n",
       " {'lang': 'de', '*': 'Kunst'},\n",
       " {'lang': 'diq', '*': 'Huner'},\n",
       " {'lang': 'el', '*': 'Τέχνες'},\n",
       " {'lang': 'eo', '*': 'Arto'},\n",
       " {'lang': 'es', '*': 'Arte'},\n",
       " {'lang': 'et', '*': 'Kunst'},\n",
       " {'lang': 'eu', '*': 'Arte'},\n",
       " {'lang': 'ext', '*': 'Arti'},\n",
       " {'lang': 'fa', '*': 'هنر'},\n",
       " {'lang': 'fi', '*': 'Taide'},\n",
       " {'lang': 'fiu-vro', '*': 'Kunst'},\n",
       " {'lang': 'fj', '*': 'Cakacakaniliga'},\n",
       " {'lang': 'fr', '*': 'Art'},\n",
       " {'lang': 'frp', '*': 'Ârt'},\n",
       " {'lang': 'frr', '*': 'Konst'},\n",
       " {'lang': 'fur', '*': 'Art'},\n",
       " {'lang': 'fy', '*': 'Keunst'},\n",
       " {'lang': 'ga', '*': 'Ealaín'},\n",
       " {'lang': 'gan', '*': '藝術'},\n",
       " {'lang': 'gcr', '*': 'Lar'},\n",
       " {'lang': 'gd', '*': 'Ealain'},\n",
       " {'lang': 'gl', '*': 'Arte'},\n",
       " {'lang': 'glk', '*': 'هۊنر'},\n",
       " {'lang': 'gn', '*': 'Tembiapoporã'},\n",
       " {'lang': 'gu', '*': 'કલા'},\n",
       " {'lang': 'gv', '*': 'Ellyn'},\n",
       " {'lang': 'ha', '*': 'Art'},\n",
       " {'lang': 'hak', '*': 'Ngi-su̍t'},\n",
       " {'lang': 'haw', '*': 'Pāheona'},\n",
       " {'lang': 'he', '*': 'אמנות'},\n",
       " {'lang': 'hi', '*': 'कला'},\n",
       " {'lang': 'hif', '*': 'Art'},\n",
       " {'lang': 'hr', '*': 'Umjetnost'},\n",
       " {'lang': 'ht', '*': 'La (aktivite)'},\n",
       " {'lang': 'hu', '*': 'Művészet'},\n",
       " {'lang': 'hy', '*': 'Արվեստ'},\n",
       " {'lang': 'hyw', '*': 'Արուեստ'},\n",
       " {'lang': 'ia', '*': 'Arte'},\n",
       " {'lang': 'id', '*': 'Seni'},\n",
       " {'lang': 'ie', '*': 'Arte'},\n",
       " {'lang': 'ig', '*': 'Ǹkà'},\n",
       " {'lang': 'ilo', '*': 'Arte'},\n",
       " {'lang': 'io', '*': 'Arto'},\n",
       " {'lang': 'is', '*': 'List'},\n",
       " {'lang': 'it', '*': 'Arte'},\n",
       " {'lang': 'ja', '*': '芸術'},\n",
       " {'lang': 'jam', '*': 'Aat'},\n",
       " {'lang': 'jbo', '*': 'larcu'},\n",
       " {'lang': 'jv', '*': 'Kagunan'},\n",
       " {'lang': 'ka', '*': 'ხელოვნება'},\n",
       " {'lang': 'kab', '*': 'Taẓuri'},\n",
       " {'lang': 'kbd', '*': 'Гъуазджэ'},\n",
       " {'lang': 'kk', '*': 'Өнер'},\n",
       " {'lang': 'kl', '*': 'Eqqumiitsuliorneq'},\n",
       " {'lang': 'km', '*': 'សិល្បៈ'},\n",
       " {'lang': 'kn', '*': 'ಕಲೆ'},\n",
       " {'lang': 'ko', '*': '예술'},\n",
       " {'lang': 'ks', '*': 'فَن'},\n",
       " {'lang': 'ku', '*': 'Huner'},\n",
       " {'lang': 'kw', '*': 'Art'},\n",
       " {'lang': 'ky', '*': 'Искусство'},\n",
       " {'lang': 'la', '*': 'Ars'},\n",
       " {'lang': 'lad', '*': 'Arte'},\n",
       " {'lang': 'lb', '*': 'Konscht'},\n",
       " {'lang': 'lfn', '*': 'Arte'},\n",
       " {'lang': 'li', '*': 'Kuns'},\n",
       " {'lang': 'lij', '*': 'Arte'},\n",
       " {'lang': 'lld', '*': 'Ert'},\n",
       " {'lang': 'lmo', '*': 'Art'},\n",
       " {'lang': 'ln', '*': 'Ntɔ́ki'},\n",
       " {'lang': 'lo', '*': 'ສິນລະປະ'},\n",
       " {'lang': 'lt', '*': 'Menas'},\n",
       " {'lang': 'lv', '*': 'Māksla'},\n",
       " {'lang': 'mai', '*': 'कला'},\n",
       " {'lang': 'mdf', '*': 'Сетеньсь'},\n",
       " {'lang': 'mg', '*': 'Kanto'},\n",
       " {'lang': 'mhr', '*': 'Сымыктыш'},\n",
       " {'lang': 'min', '*': 'Seni'},\n",
       " {'lang': 'mk', '*': 'Уметност'},\n",
       " {'lang': 'mn', '*': 'Урлаг'},\n",
       " {'lang': 'mnw', '*': 'ပါန်ကွတ်'},\n",
       " {'lang': 'mr', '*': 'कला'},\n",
       " {'lang': 'ms', '*': 'Seni'},\n",
       " {'lang': 'mt', '*': 'Arti'},\n",
       " {'lang': 'mwl', '*': 'Arte'},\n",
       " {'lang': 'my', '*': 'အနုပညာ'},\n",
       " {'lang': 'myv', '*': 'Сэтень'},\n",
       " {'lang': 'mzn', '*': 'هنر'},\n",
       " {'lang': 'nah', '*': 'Tequichihualiztli'},\n",
       " {'lang': 'nap', '*': 'Arte'},\n",
       " {'lang': 'nds', '*': 'Kunst'},\n",
       " {'lang': 'nds-nl', '*': 'Keunst'},\n",
       " {'lang': 'ne', '*': 'कला'},\n",
       " {'lang': 'nl', '*': 'Kunst'},\n",
       " {'lang': 'nn', '*': 'Kunst'},\n",
       " {'lang': 'nb', '*': 'Kunst'},\n",
       " {'lang': 'oc', '*': 'Art'},\n",
       " {'lang': 'om', '*': 'Aartii'},\n",
       " {'lang': 'os', '*': 'Аивад'},\n",
       " {'lang': 'pa', '*': 'ਕਲਾ'},\n",
       " {'lang': 'pap', '*': 'Arte'},\n",
       " {'lang': 'pfl', '*': 'Kunst'},\n",
       " {'lang': 'pl', '*': 'Sztuka'},\n",
       " {'lang': 'pnb', '*': 'آرٹ'},\n",
       " {'lang': 'ps', '*': 'هنر'},\n",
       " {'lang': 'pt', '*': 'Arte'},\n",
       " {'lang': 'qu', '*': 'Kapchiy'},\n",
       " {'lang': 'ro', '*': 'Artă'},\n",
       " {'lang': 'roa-rup', '*': 'Artâ'},\n",
       " {'lang': 'ru', '*': 'Искусство'},\n",
       " {'lang': 'rue', '*': 'Уменя'},\n",
       " {'lang': 'sa', '*': 'कला'},\n",
       " {'lang': 'sah', '*': 'Дьоҕур'},\n",
       " {'lang': 'sc', '*': 'Arte'},\n",
       " {'lang': 'scn', '*': 'Arti'},\n",
       " {'lang': 'sco', '*': 'Airt'},\n",
       " {'lang': 'sd', '*': 'فن'},\n",
       " {'lang': 'sh', '*': 'Umjetnost'},\n",
       " {'lang': 'shi', '*': 'Taẓuṛi'},\n",
       " {'lang': 'si', '*': 'කලාව'},\n",
       " {'lang': 'simple', '*': 'Art'},\n",
       " {'lang': 'sk', '*': 'Umenie'},\n",
       " {'lang': 'sl', '*': 'Umetnost'},\n",
       " {'lang': 'sm', '*': 'Faatufugaga'},\n",
       " {'lang': 'sn', '*': 'Useza'},\n",
       " {'lang': 'sq', '*': 'Arti'},\n",
       " {'lang': 'sr', '*': 'Уметност'},\n",
       " {'lang': 'ss', '*': 'Buciko'},\n",
       " {'lang': 'stq', '*': 'Kunst'},\n",
       " {'lang': 'su', '*': 'Seni'},\n",
       " {'lang': 'sv', '*': 'Konst'},\n",
       " {'lang': 'sw', '*': 'Usanii'},\n",
       " {'lang': 'szl', '*': 'Kōnszt'},\n",
       " {'lang': 'ta', '*': 'கலை'},\n",
       " {'lang': 'te', '*': 'కళ'},\n",
       " {'lang': 'tg', '*': 'Санъат'},\n",
       " {'lang': 'th', '*': 'ศิลปะ'},\n",
       " {'lang': 'ti', '*': 'ስነ ጥበብ'},\n",
       " {'lang': 'tl', '*': 'Sining'},\n",
       " {'lang': 'to', '*': 'ʻĀti'},\n",
       " {'lang': 'tpi', '*': 'At'},\n",
       " {'lang': 'tr', '*': 'Sanat'},\n",
       " {'lang': 'ts', '*': 'Vuqambhi'},\n",
       " {'lang': 'tt', '*': 'Sänğät'},\n",
       " {'lang': 'uk', '*': 'Мистецтво'},\n",
       " {'lang': 'ur', '*': 'فن'},\n",
       " {'lang': 'uz', '*': 'Sanʼat'},\n",
       " {'lang': 'vec', '*': 'Arte'},\n",
       " {'lang': 'vep', '*': 'Čomamaht'},\n",
       " {'lang': 'vi', '*': 'Nghệ thuật'},\n",
       " {'lang': 'vo', '*': 'Lekan'},\n",
       " {'lang': 'wa', '*': 'Årt'},\n",
       " {'lang': 'war', '*': 'Arté'},\n",
       " {'lang': 'wo', '*': 'Fànn'},\n",
       " {'lang': 'wuu', '*': '艺术'},\n",
       " {'lang': 'xh', '*': 'Ubugcisa'},\n",
       " {'lang': 'xmf', '*': 'ხელუანობა'},\n",
       " {'lang': 'yi', '*': 'קונסט'},\n",
       " {'lang': 'yo', '*': 'Iṣẹ́ ọnà'},\n",
       " {'lang': 'za', '*': 'Yisuz'},\n",
       " {'lang': 'zea', '*': 'Kunst'},\n",
       " {'lang': 'zgh', '*': 'ⵜⴰⵥⵓⵔⵉ'},\n",
       " {'lang': 'zh', '*': '艺术'},\n",
       " {'lang': 'zh-min-nan', '*': 'Gē-su̍t'},\n",
       " {'lang': 'zh-yue', '*': '藝術'},\n",
       " {'lang': 'zu', '*': 'Ubuciko'}]"
      ]
     },
     "execution_count": 14,
     "metadata": {},
     "output_type": "execute_result"
    }
   ],
   "source": [
    "lang_links"
   ]
  },
  {
   "cell_type": "code",
   "execution_count": 16,
   "id": "277eeaaf-e1fa-435d-8d6b-060c2593f02d",
   "metadata": {},
   "outputs": [
    {
     "name": "stdout",
     "output_type": "stream",
     "text": [
      "Failed to retrieve the page. Status code: 403\n"
     ]
    }
   ],
   "source": [
    "from urllib.parse import quote\n",
    "\n",
    "hebrew_title = quote('ארץ')\n",
    "url = f\"https://api.wikimedia.org/core/v1/wikipedia/he/page/{hebrew_title}/bare\"\n",
    "\n",
    "\n",
    "# Make the request\n",
    "response = requests.get(url, headers=headers)\n",
    "\n",
    "# Check if the request was successful\n",
    "if response.status_code == 200:\n",
    "    # Print the content of the response (the page text)\n",
    "    print(response.text)\n",
    "else:\n",
    "    print(\"Failed to retrieve the page. Status code:\", response.status_code)"
   ]
  },
  {
   "cell_type": "code",
   "execution_count": null,
   "id": "4bd2192e-15e7-4e74-8e5f-8fdc0b0d3479",
   "metadata": {},
   "outputs": [],
   "source": [
    "#https://stackoverflow.com/questions/31267970/get-a-list-of-all-wikipedia-articles-in-certain-language"
   ]
  },
  {
   "cell_type": "code",
   "execution_count": 21,
   "id": "9e1027ea-95fb-4757-aec0-7afcf6022072",
   "metadata": {},
   "outputs": [
    {
     "name": "stdout",
     "output_type": "stream",
     "text": [
      "dict_keys(['batchcomplete', 'continue', 'query'])\n"
     ]
    }
   ],
   "source": [
    "import requests\n",
    "\n",
    "# URL for the Hebrew Wikipedia API\n",
    "url = \"https://he.wikipedia.org/w/api.php\"\n",
    "\n",
    "# Parameters for fetching a list of articles\n",
    "params = {\n",
    "    \"action\": \"query\",\n",
    "    \"list\": \"allpages\",\n",
    "    \"aplimit\": \"10\",  # Limit to 10 results for demonstration\n",
    "    \"format\": \"json\"\n",
    "}\n",
    "\n",
    "# Making the request\n",
    "response = requests.get(url, params=params,headers=headers)\n",
    "\n",
    "# Checking the response and printing results\n",
    "if response.status_code == 200:\n",
    "    data = response.json()\n",
    "    print(data.keys())\n",
    "    # for page in data['query']['allpages']:\n",
    "    #     print(f\"Title: {page['title']}\")\n",
    "else:\n",
    "    print(\"Failed to retrieve the page. Status code:\", response.status_code)\n"
   ]
  },
  {
   "cell_type": "code",
   "execution_count": 22,
   "id": "f1ba3d91-d488-4b6e-a351-d6ac826c7f98",
   "metadata": {},
   "outputs": [
    {
     "name": "stdout",
     "output_type": "stream",
     "text": [
      "{'batchcomplete': '', 'continue': {'apcontinue': '\"אני_רופא,_לא...\"', 'continue': '-||'}, 'query': {'allpages': [{'pageid': 75382, 'ns': 0, 'title': '!'}, {'pageid': 1343178, 'ns': 0, 'title': '!!'}, {'pageid': 2222604, 'ns': 0, 'title': '!?!'}, {'pageid': 2272971, 'ns': 0, 'title': '!Slut'}, {'pageid': 208589, 'ns': 0, 'title': '\"'}, {'pageid': 496887, 'ns': 0, 'title': '\"Heroes\"'}, {'pageid': 830643, 'ns': 0, 'title': '\"O\"-Jung.Ban.Hap.'}, {'pageid': 1478303, 'ns': 0, 'title': '\"The Spaghetti Incident?\"'}, {'pageid': 1901394, 'ns': 0, 'title': '\"אבא גוריון\"'}, {'pageid': 2212617, 'ns': 0, 'title': '\"אינטגרנד\"'}]}}\n"
     ]
    }
   ],
   "source": [
    "print(data)"
   ]
  },
  {
   "cell_type": "code",
   "execution_count": 20,
   "id": "ec4d0394-8e47-46c8-b4d9-d7a6df7ab1c4",
   "metadata": {},
   "outputs": [
    {
     "name": "stdout",
     "output_type": "stream",
     "text": [
      "dict_keys(['batchcomplete', 'continue', 'query'])\n",
      "Title: !\n",
      "Title: !!\n",
      "Title: !!!\n",
      "Title: !!!!!!!\n",
      "Title: !!!Fuck You!!!\n",
      "Title: !!!Fuck You!!! And Then Some\n",
      "Title: !!!Fuck You!!! and Then Some\n",
      "Title: !!! (!!! album)\n",
      "Title: !!! (American band)\n",
      "Title: !!! (Chk Chk Chk)\n"
     ]
    }
   ],
   "source": [
    "import requests\n",
    "\n",
    "# URL for the English Wikipedia API\n",
    "url = \"https://en.wikipedia.org/w/api.php\"\n",
    "\n",
    "# Parameters for fetching a list of articles\n",
    "params = {\n",
    "    \"action\": \"query\",\n",
    "    \"list\": \"allpages\",\n",
    "    \"aplimit\": \"10\",  # Limit to 10 results for demonstration\n",
    "    \"format\": \"json\"\n",
    "}\n",
    "\n",
    "# Making the request\n",
    "response = requests.get(url, params=params)\n",
    "\n",
    "# Checking the response and printing results\n",
    "if response.status_code == 200:\n",
    "    data = response.json()\n",
    "    print(data.keys())\n",
    "    for page in data['query']['allpages']:\n",
    "        print(f\"Title: {page['title']}\")\n",
    "else:\n",
    "    print(\"Failed to retrieve the page. Status code:\", response.status_code)\n"
   ]
  },
  {
   "cell_type": "code",
   "execution_count": null,
   "id": "d6f5b432-4b4f-4e7f-b166-a717294a6a76",
   "metadata": {},
   "outputs": [],
   "source": []
  }
 ],
 "metadata": {
  "kernelspec": {
   "display_name": "Python 3 (ipykernel)",
   "language": "python",
   "name": "python3"
  },
  "language_info": {
   "codemirror_mode": {
    "name": "ipython",
    "version": 3
   },
   "file_extension": ".py",
   "mimetype": "text/x-python",
   "name": "python",
   "nbconvert_exporter": "python",
   "pygments_lexer": "ipython3",
   "version": "3.12.0"
  }
 },
 "nbformat": 4,
 "nbformat_minor": 5
}
