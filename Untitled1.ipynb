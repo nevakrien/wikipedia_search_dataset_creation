{
 "cells": [
  {
   "cell_type": "code",
   "execution_count": 8,
   "id": "93614b28-7caf-4692-9266-9d566b77b331",
   "metadata": {},
   "outputs": [],
   "source": [
    "import wikipediaapi\n",
    "import json\n",
    "user_agent=\"search ml paired dataset for reaserch academic purposes(nevo.krien@gmail.com)\"\n",
    "\n",
    "with open('secrets.json') as f:\n",
    "    secrets=json.load(f)\n",
    "headers={\"Authorization\": f\"Bearer {secrets['Access token']}\"}"
   ]
  },
  {
   "cell_type": "code",
   "execution_count": 11,
   "id": "7fd1db34-6e31-4983-b018-0f7f0d87c9bc",
   "metadata": {},
   "outputs": [],
   "source": [
    "def get_article_pairs(title):\n",
    "    wiki = wikipediaapi.Wikipedia(language='en',user_agent=user_agent,headers=headers)\n",
    "    #Get English page\n",
    "    page_en = wiki.page(title)\n",
    "\n",
    "    if not page_en.exists():\n",
    "        print(\"English page not found\")\n",
    "        return None\n",
    "    return page_en,None\n",
    "    # Get corresponding Hebrew page\n",
    "    page_he_title = page_en.langlinks.get('he')\n",
    "    if page_he_title:\n",
    "        del(wiki)\n",
    "        wiki = wikipediaapi.Wikipedia(language='he',user_agent=user_agent,headers=headers)\n",
    "        page_he = wiki.page(page_he_title.title)\n",
    "        if page_he.exists():\n",
    "            return page_en.text, page_he.text\n",
    "        else:\n",
    "            print(\"Hebrew page not found\")\n",
    "    else:\n",
    "        print(\"No interlanguage link to Hebrew\")"
   ]
  },
  {
   "cell_type": "code",
   "execution_count": 12,
   "id": "590bf85d-01fc-4c94-b397-8c2fe7e89485",
   "metadata": {},
   "outputs": [],
   "source": [
    "english_text, hebrew_text = get_article_pairs(\"Art\")"
   ]
  },
  {
   "cell_type": "code",
   "execution_count": 13,
   "id": "f15f12a6-5f38-4154-98e9-467678f74185",
   "metadata": {},
   "outputs": [
    {
     "data": {
      "text/plain": [
       "Art (id: 752, ns: 0)"
      ]
     },
     "execution_count": 13,
     "metadata": {},
     "output_type": "execute_result"
    }
   ],
   "source": [
    "english_text"
   ]
  },
  {
   "cell_type": "code",
   "execution_count": null,
   "id": "4e151ece-8ced-4ae5-8f7f-4baf60f016d3",
   "metadata": {},
   "outputs": [],
   "source": []
  }
 ],
 "metadata": {
  "kernelspec": {
   "display_name": "Python 3 (ipykernel)",
   "language": "python",
   "name": "python3"
  },
  "language_info": {
   "codemirror_mode": {
    "name": "ipython",
    "version": 3
   },
   "file_extension": ".py",
   "mimetype": "text/x-python",
   "name": "python",
   "nbconvert_exporter": "python",
   "pygments_lexer": "ipython3",
   "version": "3.12.0"
  }
 },
 "nbformat": 4,
 "nbformat_minor": 5
}
